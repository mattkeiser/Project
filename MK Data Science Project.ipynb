{
 "cells": [
  {
   "cell_type": "code",
   "execution_count": 42,
   "metadata": {
    "collapsed": false
   },
   "outputs": [],
   "source": [
    "import numpy as np\n",
    "import pandas as pd\n",
    "import sklearn as sk\n",
    "import numpy as np\n",
    "import sklearn.cross_validation as cross_validation\n",
    "import sklearn.ensemble as ensemble\n",
    "import sklearn.grid_search as grid_search\n",
    "import sklearn.metrics as metrics\n",
    "from sklearn.metrics import confusion_matrix\n",
    "import pickle\n",
    "import scipy.stats as stats\n",
    "import matplotlib.pyplot as plt\n",
    "%matplotlib inline"
   ]
  },
  {
   "cell_type": "markdown",
   "metadata": {},
   "source": [
    "#Import and Combine Data"
   ]
  },
  {
   "cell_type": "code",
   "execution_count": 4,
   "metadata": {
    "collapsed": false
   },
   "outputs": [],
   "source": [
    "data1 = pd.read_csv('C:/Users/Mathew/Data Science Project/data/pums/ss13pusa.csv')"
   ]
  },
  {
   "cell_type": "code",
   "execution_count": 5,
   "metadata": {
    "collapsed": false
   },
   "outputs": [],
   "source": [
    "data2 = pd.read_csv('C:/Users/Mathew/Data Science Project/data/pums/ss13pusb.csv')"
   ]
  },
  {
   "cell_type": "code",
   "execution_count": 6,
   "metadata": {
    "collapsed": false
   },
   "outputs": [
    {
     "name": "stdout",
     "output_type": "stream",
     "text": [
      "(3132795, 283)\n"
     ]
    }
   ],
   "source": [
    "data = [data1, data2]\n",
    "data = pd.concat(data)\n",
    "print(data.shape)\n",
    "del data1\n",
    "del data2"
   ]
  },
  {
   "cell_type": "markdown",
   "metadata": {},
   "source": [
    "#Remove Non-Informational Features"
   ]
  },
  {
   "cell_type": "code",
   "execution_count": 7,
   "metadata": {
    "collapsed": false
   },
   "outputs": [
    {
     "data": {
      "text/plain": [
       "array(['RT', 'SERIALNO', 'SPORDER', 'PUMA', 'ST', 'ADJINC', 'PWGTP',\n",
       "       'AGEP', 'CIT', 'CITWP', 'COW', 'DDRS', 'DEAR', 'DEYE', 'DOUT',\n",
       "       'DPHY', 'DRAT', 'DRATX', 'DREM', 'ENG', 'FER', 'GCL', 'GCM', 'GCR',\n",
       "       'HINS1', 'HINS2', 'HINS3', 'HINS4', 'HINS5', 'HINS6', 'HINS7',\n",
       "       'INTP', 'JWMNP', 'JWRIP', 'JWTR', 'LANX', 'MAR', 'MARHD', 'MARHM',\n",
       "       'MARHT', 'MARHW', 'MARHYP', 'MIG', 'MIL', 'MLPA', 'MLPB', 'MLPCD',\n",
       "       'MLPE', 'MLPFG', 'MLPH', 'MLPI', 'MLPJ', 'MLPK', 'NWAB', 'NWAV',\n",
       "       'NWLA', 'NWLK', 'NWRE', 'OIP', 'PAP', 'RELP', 'RETP', 'SCH', 'SCHG',\n",
       "       'SCHL', 'SEMP', 'SEX', 'SSIP', 'SSP', 'WAGP', 'WKHP', 'WKL', 'WKW',\n",
       "       'WRK', 'YOEP', 'ANC', 'ANC1P', 'ANC2P', 'DECADE', 'DIS', 'DRIVESP',\n",
       "       'ESP', 'ESR', 'FOD1P', 'FOD2P', 'HICOV', 'HISP', 'INDP', 'JWAP',\n",
       "       'JWDP', 'LANP', 'MIGPUMA', 'MIGSP', 'MSP', 'NAICSP', 'NATIVITY',\n",
       "       'NOP', 'OC', 'OCCP', 'PAOC', 'PERNP', 'PINCP', 'POBP', 'POVPIP',\n",
       "       'POWPUMA', 'POWSP', 'PRIVCOV', 'PUBCOV', 'QTRBIR', 'RAC1P', 'RAC2P',\n",
       "       'RAC3P', 'RACAIAN', 'RACASN', 'RACBLK', 'RACNH', 'RACNUM', 'RACPI',\n",
       "       'RACSOR', 'RACWHT', 'RC', 'SCIENGP', 'SCIENGRLP', 'SFN', 'SFR',\n",
       "       'SOCP', 'VPS', 'WAOB', 'FAGEP', 'FANCP', 'FCITP', 'FCITWP', 'FCOWP',\n",
       "       'FDDRSP', 'FDEARP', 'FDEYEP', 'FDISP', 'FDOUTP', 'FDPHYP', 'FDRATP',\n",
       "       'FDRATXP', 'FDREMP', 'FENGP', 'FESRP', 'FFERP', 'FFODP', 'FGCLP',\n",
       "       'FGCMP', 'FGCRP', 'FHINS1P', 'FHINS2P', 'FHINS3C', 'FHINS3P',\n",
       "       'FHINS4C', 'FHINS4P', 'FHINS5C', 'FHINS5P', 'FHINS6P', 'FHINS7P',\n",
       "       'FHISP', 'FINDP', 'FINTP', 'FJWDP', 'FJWMNP', 'FJWRIP', 'FJWTRP',\n",
       "       'FLANP', 'FLANXP', 'FMARHDP', 'FMARHMP', 'FMARHTP', 'FMARHWP',\n",
       "       'FMARHYP', 'FMARP', 'FMIGP', 'FMIGSP', 'FMILPP', 'FMILSP', 'FOCCP',\n",
       "       'FOIP', 'FPAP', 'FPERNP', 'FPINCP', 'FPOBP', 'FPOWSP', 'FPRIVCOVP',\n",
       "       'FPUBCOVP', 'FRACP', 'FRELP', 'FRETP', 'FSCHGP', 'FSCHLP', 'FSCHP',\n",
       "       'FSEMP', 'FSEXP', 'FSSIP', 'FSSP', 'FWAGP', 'FWKHP', 'FWKLP',\n",
       "       'FWKWP', 'FWRKP', 'FYOEP', 'pwgtp1', 'pwgtp2', 'pwgtp3', 'pwgtp4',\n",
       "       'pwgtp5', 'pwgtp6', 'pwgtp7', 'pwgtp8', 'pwgtp9', 'pwgtp10',\n",
       "       'pwgtp11', 'pwgtp12', 'pwgtp13', 'pwgtp14', 'pwgtp15', 'pwgtp16',\n",
       "       'pwgtp17', 'pwgtp18', 'pwgtp19', 'pwgtp20', 'pwgtp21', 'pwgtp22',\n",
       "       'pwgtp23', 'pwgtp24', 'pwgtp25', 'pwgtp26', 'pwgtp27', 'pwgtp28',\n",
       "       'pwgtp29', 'pwgtp30', 'pwgtp31', 'pwgtp32', 'pwgtp33', 'pwgtp34',\n",
       "       'pwgtp35', 'pwgtp36', 'pwgtp37', 'pwgtp38', 'pwgtp39', 'pwgtp40',\n",
       "       'pwgtp41', 'pwgtp42', 'pwgtp43', 'pwgtp44', 'pwgtp45', 'pwgtp46',\n",
       "       'pwgtp47', 'pwgtp48', 'pwgtp49', 'pwgtp50', 'pwgtp51', 'pwgtp52',\n",
       "       'pwgtp53', 'pwgtp54', 'pwgtp55', 'pwgtp56', 'pwgtp57', 'pwgtp58',\n",
       "       'pwgtp59', 'pwgtp60', 'pwgtp61', 'pwgtp62', 'pwgtp63', 'pwgtp64',\n",
       "       'pwgtp65', 'pwgtp66', 'pwgtp67', 'pwgtp68', 'pwgtp69', 'pwgtp70',\n",
       "       'pwgtp71', 'pwgtp72', 'pwgtp73', 'pwgtp74', 'pwgtp75', 'pwgtp76',\n",
       "       'pwgtp77', 'pwgtp78', 'pwgtp79', 'pwgtp80'], dtype=object)"
      ]
     },
     "execution_count": 7,
     "metadata": {},
     "output_type": "execute_result"
    }
   ],
   "source": [
    "data.columns.values"
   ]
  },
  {
   "cell_type": "code",
   "execution_count": 8,
   "metadata": {
    "collapsed": false
   },
   "outputs": [],
   "source": [
    "data = data.drop(['RT', 'SERIALNO', 'SPORDER', 'SEMP', 'ADJINC', 'NAICSP', 'OCCP', \n",
    "       'SOCP', 'FAGEP', 'FANCP', 'FCITP', 'FCITWP', 'FCOWP',\n",
    "       'FDDRSP', 'FDEARP', 'FDEYEP', 'FDISP', 'FDOUTP', 'FDPHYP', 'FDRATP',\n",
    "       'FDRATXP', 'FDREMP', 'FENGP', 'FESRP', 'FFERP', 'FFODP', 'FGCLP',\n",
    "       'FGCMP', 'FGCRP', 'FHINS1P', 'FHINS2P', 'FHINS3C', 'FHINS3P',\n",
    "       'FHINS4C', 'FHINS4P', 'FHINS5C', 'FHINS5P', 'FHINS6P', 'FHINS7P',\n",
    "       'FHISP', 'FINDP', 'FINTP', 'FJWDP', 'FJWMNP', 'FJWRIP', 'FJWTRP',\n",
    "       'FLANP', 'FLANXP', 'FMARHDP', 'FMARHMP', 'FMARHTP', 'FMARHWP',\n",
    "       'FMARHYP', 'FMARP', 'FMIGP', 'FMIGSP', 'FMILPP', 'FMILSP', 'FOCCP',\n",
    "       'FOIP', 'FPAP', 'FPERNP', 'FPINCP', 'FPOBP', 'FPOWSP', 'FPRIVCOVP',\n",
    "       'FPUBCOVP', 'FRACP', 'FRELP', 'FRETP', 'FSCHGP', 'FSCHLP', 'FSCHP',\n",
    "       'FSEMP', 'FSEXP', 'FSSIP', 'FSSP', 'FWAGP', 'FWKHP', 'FWKLP',\n",
    "       'FWKWP', 'FWRKP', 'FYOEP', 'pwgtp1', 'pwgtp2', 'pwgtp3', 'pwgtp4',\n",
    "       'pwgtp5', 'pwgtp6', 'pwgtp7', 'pwgtp8', 'pwgtp9', 'pwgtp10',\n",
    "       'pwgtp11', 'pwgtp12', 'pwgtp13', 'pwgtp14', 'pwgtp15', 'pwgtp16',\n",
    "       'pwgtp17', 'pwgtp18', 'pwgtp19', 'pwgtp20', 'pwgtp21', 'pwgtp22',\n",
    "       'pwgtp23', 'pwgtp24', 'pwgtp25', 'pwgtp26', 'pwgtp27', 'pwgtp28',\n",
    "       'pwgtp29', 'pwgtp30', 'pwgtp31', 'pwgtp32', 'pwgtp33', 'pwgtp34',\n",
    "       'pwgtp35', 'pwgtp36', 'pwgtp37', 'pwgtp38', 'pwgtp39', 'pwgtp40',\n",
    "       'pwgtp41', 'pwgtp42', 'pwgtp43', 'pwgtp44', 'pwgtp45', 'pwgtp46',\n",
    "       'pwgtp47', 'pwgtp48', 'pwgtp49', 'pwgtp50', 'pwgtp51', 'pwgtp52',\n",
    "       'pwgtp53', 'pwgtp54', 'pwgtp55', 'pwgtp56', 'pwgtp57', 'pwgtp58',\n",
    "       'pwgtp59', 'pwgtp60', 'pwgtp61', 'pwgtp62', 'pwgtp63', 'pwgtp64',\n",
    "       'pwgtp65', 'pwgtp66', 'pwgtp67', 'pwgtp68', 'pwgtp69', 'pwgtp70',\n",
    "       'pwgtp71', 'pwgtp72', 'pwgtp73', 'pwgtp74', 'pwgtp75', 'pwgtp76',\n",
    "       'pwgtp77', 'pwgtp78', 'pwgtp79', 'pwgtp80'],1)"
   ]
  },
  {
   "cell_type": "markdown",
   "metadata": {},
   "source": [
    "#Select for Only Adults"
   ]
  },
  {
   "cell_type": "code",
   "execution_count": 9,
   "metadata": {
    "collapsed": true
   },
   "outputs": [],
   "source": [
    "data = data[data['AGEP'] >= 18]"
   ]
  },
  {
   "cell_type": "code",
   "execution_count": 10,
   "metadata": {
    "collapsed": false
   },
   "outputs": [
    {
     "data": {
      "text/plain": [
       "(2459182, 120)"
      ]
     },
     "execution_count": 10,
     "metadata": {},
     "output_type": "execute_result"
    }
   ],
   "source": [
    "data.shape"
   ]
  },
  {
   "cell_type": "markdown",
   "metadata": {},
   "source": [
    "#Set Up Target Feature"
   ]
  },
  {
   "cell_type": "code",
   "execution_count": 11,
   "metadata": {
    "collapsed": true
   },
   "outputs": [],
   "source": [
    "Y = ((data['COW'] == 6) | (data['COW'] == 7))*1\n",
    "del data['COW']"
   ]
  },
  {
   "cell_type": "markdown",
   "metadata": {},
   "source": [
    "#Generate Categorical (Short) and Continuous (Long) Feature Lists"
   ]
  },
  {
   "cell_type": "code",
   "execution_count": 12,
   "metadata": {
    "collapsed": false
   },
   "outputs": [],
   "source": [
    "col_len_arr = []\n",
    "for col in data.columns.values:\n",
    "    col_len = len(np.unique(data[pd.notnull(data[col])][col]))\n",
    "    col_len_arr.append([col_len, col])"
   ]
  },
  {
   "cell_type": "code",
   "execution_count": 13,
   "metadata": {
    "collapsed": false
   },
   "outputs": [
    {
     "name": "stdout",
     "output_type": "stream",
     "text": [
      "[[982, 'PUMA'], [1163, 'PWGTP'], [78, 'AGEP'], [73, 'CITWP'], [720, 'INTP'], [138, 'JWMNP'], [81, 'MARHYP'], [609, 'OIP'], [347, 'PAP'], [660, 'RETP'], [295, 'SSIP'], [587, 'SSP'], [907, 'WAGP'], [99, 'WKHP'], [83, 'YOEP'], [231, 'ANC1P'], [230, 'ANC2P'], [173, 'FOD1P'], [172, 'FOD2P'], [267, 'INDP'], [285, 'JWAP'], [150, 'JWDP'], [109, 'LANP'], [211, 'MIGPUMA'], [100, 'MIGSP'], [5148, 'PERNP'], [19858, 'PINCP'], [215, 'POBP'], [502, 'POVPIP'], [217, 'POWPUMA'], [100, 'RAC3P']]\n",
      "[[51, 'ST'], [5, 'CIT'], [2, 'DDRS'], [2, 'DEAR'], [2, 'DEYE'], [2, 'DOUT'], [2, 'DPHY'], [6, 'DRAT'], [2, 'DRATX'], [2, 'DREM'], [4, 'ENG'], [2, 'FER'], [2, 'GCL'], [5, 'GCM'], [2, 'GCR'], [2, 'HINS1'], [2, 'HINS2'], [2, 'HINS3'], [2, 'HINS4'], [2, 'HINS5'], [2, 'HINS6'], [2, 'HINS7'], [10, 'JWRIP'], [12, 'JWTR'], [2, 'LANX'], [5, 'MAR'], [2, 'MARHD'], [2, 'MARHM'], [3, 'MARHT'], [2, 'MARHW'], [3, 'MIG'], [4, 'MIL'], [2, 'MLPA'], [2, 'MLPB'], [2, 'MLPCD'], [2, 'MLPE'], [2, 'MLPFG'], [2, 'MLPH'], [2, 'MLPI'], [2, 'MLPJ'], [2, 'MLPK'], [3, 'NWAB'], [5, 'NWAV'], [3, 'NWLA'], [3, 'NWLK'], [3, 'NWRE'], [18, 'RELP'], [3, 'SCH'], [9, 'SCHG'], [24, 'SCHL'], [2, 'SEX'], [3, 'WKL'], [6, 'WKW'], [2, 'WRK'], [4, 'ANC'], [7, 'DECADE'], [2, 'DIS'], [6, 'DRIVESP'], [0, 'ESP'], [6, 'ESR'], [2, 'HICOV'], [24, 'HISP'], [6, 'MSP'], [2, 'NATIVITY'], [0, 'NOP'], [1, 'OC'], [4, 'PAOC'], [59, 'POWSP'], [2, 'PRIVCOV'], [2, 'PUBCOV'], [4, 'QTRBIR'], [9, 'RAC1P'], [68, 'RAC2P'], [2, 'RACAIAN'], [2, 'RACASN'], [2, 'RACBLK'], [2, 'RACNH'], [5, 'RACNUM'], [2, 'RACPI'], [2, 'RACSOR'], [2, 'RACWHT'], [1, 'RC'], [2, 'SCIENGP'], [2, 'SCIENGRLP'], [3, 'SFN'], [3, 'SFR'], [15, 'VPS'], [8, 'WAOB']]\n"
     ]
    }
   ],
   "source": [
    "long_col_arr = []\n",
    "short_col_arr = []\n",
    "\n",
    "for i in col_len_arr:\n",
    "    if i[0] >= 70:\n",
    "        long_col_arr.append(i)\n",
    "    else:\n",
    "        short_col_arr.append(i)\n",
    "print(long_col_arr)\n",
    "print(short_col_arr)"
   ]
  },
  {
   "cell_type": "markdown",
   "metadata": {},
   "source": [
    "#Split the Dataset"
   ]
  },
  {
   "cell_type": "code",
   "execution_count": 14,
   "metadata": {
    "collapsed": false
   },
   "outputs": [],
   "source": [
    "data['Y'] = Y\n",
    "skf = cross_validation.StratifiedKFold(data['Y'], n_folds=10, shuffle = True)"
   ]
  },
  {
   "cell_type": "code",
   "execution_count": 15,
   "metadata": {
    "collapsed": false
   },
   "outputs": [],
   "source": [
    "split = []\n",
    "for i,j in skf:\n",
    "    split.append(j)"
   ]
  },
  {
   "cell_type": "code",
   "execution_count": 16,
   "metadata": {
    "collapsed": false
   },
   "outputs": [
    {
     "data": {
      "text/plain": [
       "[array([     14,      20,      60, ..., 2459165, 2459171, 2459175]),\n",
       " array([      4,       8,      37, ..., 2459161, 2459166, 2459168]),\n",
       " array([     17,      27,      29, ..., 2459108, 2459131, 2459137]),\n",
       " array([     26,      28,      32, ..., 2459149, 2459150, 2459156]),\n",
       " array([     18,      21,      31, ..., 2459170, 2459172, 2459180]),\n",
       " array([      2,       5,       9, ..., 2459173, 2459178, 2459181]),\n",
       " array([      3,      36,      45, ..., 2459120, 2459136, 2459179]),\n",
       " array([     15,      16,      19, ..., 2459155, 2459169, 2459176]),\n",
       " array([      0,       1,      13, ..., 2459115, 2459129, 2459174]),\n",
       " array([      6,       7,      12, ..., 2459151, 2459164, 2459177])]"
      ]
     },
     "execution_count": 16,
     "metadata": {},
     "output_type": "execute_result"
    }
   ],
   "source": [
    "split"
   ]
  },
  {
   "cell_type": "code",
   "execution_count": 21,
   "metadata": {
    "collapsed": false
   },
   "outputs": [],
   "source": [
    "'''data.loc[split[0]].to_csv(path_or_buf='C:/Users/Mathew/Data Science Project/Split_Data01.csv')\n",
    "data.loc[split[1]].to_csv(path_or_buf='C:/Users/Mathew/Data Science Project/Split_Data02.csv')\n",
    "data.loc[split[2]].to_csv(path_or_buf='C:/Users/Mathew/Data Science Project/Split_Data03.csv')\n",
    "data.loc[split[3]].to_csv(path_or_buf='C:/Users/Mathew/Data Science Project/Split_Data04.csv')\n",
    "data.loc[split[4]].to_csv(path_or_buf='C:/Users/Mathew/Data Science Project/Split_Data05.csv')\n",
    "data.loc[split[5]].to_csv(path_or_buf='C:/Users/Mathew/Data Science Project/Split_Data06.csv')\n",
    "data.loc[split[6]].to_csv(path_or_buf='C:/Users/Mathew/Data Science Project/Split_Data07.csv')\n",
    "data.loc[split[7]].to_csv(path_or_buf='C:/Users/Mathew/Data Science Project/Split_Data08.csv')\n",
    "data.loc[split[8]].to_csv(path_or_buf='C:/Users/Mathew/Data Science Project/Split_Data09.csv')\n",
    "data.loc[split[9]].to_csv(path_or_buf='C:/Users/Mathew/Data Science Project/Split_Data10.csv')'''\n",
    "#del data"
   ]
  },
  {
   "cell_type": "markdown",
   "metadata": {},
   "source": [
    "#Test the Training Procedure"
   ]
  },
  {
   "cell_type": "code",
   "execution_count": 17,
   "metadata": {
    "collapsed": false
   },
   "outputs": [],
   "source": [
    "path = 'C:/Users/Mathew/Data Science Project/Split_Data01.csv'\n",
    "frame = pd.read_csv(path)\n",
    "frame = frame.drop(['PUMA', 'MIGPUMA', 'POWPUMA', 'ANC1P', 'ANC2P', 'FOD1P', 'FOD2P', 'INDP', 'LANP', 'POBP', 'MIGSP', 'RAC3P'], 1)\n",
    "for feature in short_col_arr:\n",
    "    frame = pd.concat([frame, pd.get_dummies(frame[feature[1]], prefix = feature[1], dummy_na=True)], axis=1)\n",
    "    frame = frame.drop(feature[1],1)\n",
    "frame = frame.fillna(value = -1)\n",
    "frame = frame.drop('Unnamed: 0',1)\n"
   ]
  },
  {
   "cell_type": "code",
   "execution_count": 18,
   "metadata": {
    "collapsed": false
   },
   "outputs": [],
   "source": [
    "y = frame['Y']\n",
    "x = frame.drop('Y',1)\n",
    "\n",
    "n_estimators_grid = [{'n_estimators': list(range(10,26,2))}]\n",
    "estimator = ensemble.RandomForestClassifier()\n",
    "est_cv = grid_search.GridSearchCV(estimator, n_estimators_grid, cv = 3).fit(x,y)\n"
   ]
  },
  {
   "cell_type": "code",
   "execution_count": 19,
   "metadata": {
    "collapsed": false
   },
   "outputs": [
    {
     "name": "stdout",
     "output_type": "stream",
     "text": [
      "0.97104959563\n",
      "{'n_estimators': 18}\n"
     ]
    },
    {
     "data": {
      "text/plain": [
       "array([  4.99715827e-03,   4.85236145e-03,   5.69972620e-04,\n",
       "         4.65986699e-02,   3.66320462e-03,   4.03857313e-03,\n",
       "         8.41538080e-04,   1.89731659e-04,   9.23734505e-04,\n",
       "         4.40790622e-02,   1.39536556e-02,   4.27818654e-02,\n",
       "         5.65202061e-03,   8.71581786e-04,   3.48189476e-03,\n",
       "         3.68309397e-03,   6.23835989e-03,   5.00034450e-02,\n",
       "         3.81897763e-03,   1.51794443e-04,   3.37957046e-05,\n",
       "         2.28867815e-04,   1.49983975e-04,   6.73140667e-04,\n",
       "         2.89667100e-04,   1.54324637e-04,   4.58313545e-05,\n",
       "         2.09848070e-05,   5.74957338e-04,   2.96952847e-04,\n",
       "         4.53989325e-05,   8.16297309e-05,   3.35011597e-04,\n",
       "         2.00769722e-04,   1.26438997e-04,   1.59118267e-04,\n",
       "         1.77948481e-04,   1.74505014e-04,   8.67422407e-05,\n",
       "         2.18133051e-04,   2.43717961e-04,   3.28075700e-04,\n",
       "         2.46487458e-04,   9.93084202e-05,   2.13479909e-04,\n",
       "         9.43716901e-05,   1.32201856e-04,   1.20741289e-04,\n",
       "         8.64771553e-05,   2.71320988e-04,   8.97833419e-05,\n",
       "         4.70894930e-04,   3.06795934e-04,   8.43352072e-05,\n",
       "         3.02820678e-04,   1.41486036e-04,   2.07486022e-04,\n",
       "         3.40641209e-04,   6.26176700e-05,   1.66885244e-04,\n",
       "         5.75888398e-05,   2.37153524e-04,   5.14353372e-04,\n",
       "         1.37322566e-04,   9.90186137e-05,   2.48467407e-04,\n",
       "         2.53643013e-04,   8.85977827e-05,   2.38295487e-04,\n",
       "         3.65247687e-05,   0.00000000e+00,   1.98984951e-04,\n",
       "         2.75431325e-05,   6.91881633e-05,   2.22705373e-04,\n",
       "         2.06559855e-04,   0.00000000e+00,   9.58048399e-05,\n",
       "         9.38395612e-05,   0.00000000e+00,   2.25158269e-04,\n",
       "         2.29525673e-04,   0.00000000e+00,   1.56796594e-04,\n",
       "         1.51427308e-04,   0.00000000e+00,   1.32885467e-04,\n",
       "         1.21569220e-04,   4.37554849e-02,   2.56485236e-04,\n",
       "         2.17235020e-04,   0.00000000e+00,   1.28323383e-05,\n",
       "         6.05741526e-05,   2.97981362e-05,   1.83537984e-05,\n",
       "         3.18454202e-05,   1.04019561e-05,   6.51512335e-05,\n",
       "         5.65976755e-05,   2.14888541e-04,   1.61517178e-04,\n",
       "         1.51481776e-04,   1.59082031e-04,   0.00000000e+00,\n",
       "         3.96196269e-04,   2.09151637e-04,   1.57015377e-04,\n",
       "         8.86357589e-05,   3.54718245e-04,   7.82268020e-05,\n",
       "         4.34242391e-04,   4.08924944e-04,   1.35117927e-04,\n",
       "         5.94181994e-04,   5.05718386e-04,   1.93395112e-05,\n",
       "         2.54567165e-05,   3.24049056e-05,   3.65379639e-05,\n",
       "         4.87777321e-05,   7.37143007e-05,   6.35258038e-05,\n",
       "         1.09423485e-04,   1.27742501e-04,   1.91088987e-03,\n",
       "         2.74965507e-03,   0.00000000e+00,   1.62150357e-03,\n",
       "         2.02617524e-03,   0.00000000e+00,   4.35588976e-04,\n",
       "         3.92779205e-04,   8.75538803e-02,   2.63301828e-04,\n",
       "         2.69059182e-04,   0.00000000e+00,   2.03290421e-04,\n",
       "         1.95432920e-04,   4.38065775e-02,   1.19361464e-04,\n",
       "         1.17666804e-04,   0.00000000e+00,   2.95431716e-05,\n",
       "         3.50551104e-05,   0.00000000e+00,   4.86881898e-04,\n",
       "         2.22550796e-04,   8.28183789e-05,   4.37963533e-05,\n",
       "         2.94385652e-05,   1.40944046e-05,   4.09038285e-06,\n",
       "         3.67610554e-06,   1.72852327e-06,   3.06960394e-06,\n",
       "         3.35303753e-04,   6.52263526e-04,   7.39142998e-05,\n",
       "         2.11652451e-06,   5.74964437e-05,   2.30365187e-05,\n",
       "         9.36816510e-06,   1.16002403e-05,   1.20824565e-05,\n",
       "         3.21721436e-05,   1.74330030e-04,   1.24464167e-03,\n",
       "         6.85601153e-05,   9.35889151e-04,   3.69532945e-04,\n",
       "         3.68460367e-04,   0.00000000e+00,   4.68226320e-04,\n",
       "         1.78304121e-04,   3.61829101e-04,   1.23200127e-04,\n",
       "         1.37753347e-04,   4.38728774e-02,   8.67737701e-05,\n",
       "         2.49296156e-04,   2.49480526e-04,   1.28059969e-04,\n",
       "         2.80998713e-04,   1.45608397e-04,   8.03875989e-04,\n",
       "         7.21557343e-04,   3.37477622e-04,   1.77174344e-04,\n",
       "         4.52401308e-05,   2.66501024e-04,   7.87211653e-05,\n",
       "         5.32022425e-04,   5.27071529e-05,   5.06142487e-04,\n",
       "         0.00000000e+00,   6.11144160e-05,   7.87318759e-05,\n",
       "         1.51027702e-04,   1.69889861e-04,   0.00000000e+00,\n",
       "         1.07305468e-04,   6.25408146e-05,   8.71875692e-05,\n",
       "         1.24912023e-04,   5.93572196e-05,   9.66030326e-05,\n",
       "         1.35217851e-04,   9.57845484e-05,   7.72668759e-05,\n",
       "         1.25567997e-04,   1.29733455e-04,   8.25689724e-05,\n",
       "         1.26879109e-04,   7.48682801e-05,   1.00390096e-04,\n",
       "         9.47112399e-05,   3.62563303e-05,   9.37052505e-05,\n",
       "         8.44761568e-05,   1.47366164e-05,   8.84615835e-05,\n",
       "         9.92001980e-05,   2.19410462e-05,   9.02857200e-05,\n",
       "         8.17797498e-05,   3.24647297e-08,   7.56715152e-05,\n",
       "         1.14555941e-04,   3.91728121e-04,   4.61173660e-04,\n",
       "         0.00000000e+00,   3.23091411e-04,   1.04636605e-04,\n",
       "         2.02032162e-04,   0.00000000e+00,   4.09881322e-04,\n",
       "         0.00000000e+00,   9.26207528e-05,   3.96365125e-04,\n",
       "         3.86869167e-04,   0.00000000e+00,   2.25494792e-04,\n",
       "         4.07400621e-04,   4.29313585e-04,   0.00000000e+00,\n",
       "         5.28269288e-05,   3.58634547e-04,   3.14799934e-04,\n",
       "         4.38706299e-02,   1.06109159e-03,   7.77330386e-04,\n",
       "         2.33199381e-04,   2.00547555e-05,   1.94939264e-05,\n",
       "         9.30074555e-05,   4.57631327e-05,   3.87638008e-05,\n",
       "         1.97981696e-05,   3.86329997e-05,   6.85629703e-05,\n",
       "         4.97254483e-05,   7.62867316e-05,   1.81901495e-04,\n",
       "         1.73100847e-07,   7.68870885e-05,   6.35202852e-05,\n",
       "         8.95478466e-05,   0.00000000e+00,   2.35103783e-04,\n",
       "         2.10720361e-04,   1.13376114e-04,   4.38392153e-02,\n",
       "         4.44474249e-06,   3.69301494e-07,   1.77870243e-06,\n",
       "         6.30803805e-06,   5.46609792e-06,   1.11094517e-05,\n",
       "         2.65155035e-05,   1.86412607e-04,   9.88020331e-05,\n",
       "         2.75353925e-04,   1.24929607e-04,   9.71805223e-06,\n",
       "         2.50468608e-06,   1.03762753e-05,   1.80492794e-05,\n",
       "         2.84926871e-05,   2.88210898e-05,   2.38995292e-05,\n",
       "         8.31150092e-05,   5.81759064e-05,   1.54377750e-04,\n",
       "         1.30855977e-04,   1.62675185e-04,   1.71212681e-04,\n",
       "         1.84587530e-04,   8.14987892e-04,   3.10000529e-04,\n",
       "         4.63016539e-04,   7.10776830e-04,   4.69984449e-04,\n",
       "         6.64031535e-04,   4.52356719e-04,   6.10771617e-04,\n",
       "         2.33452510e-04,   0.00000000e+00,   5.16162911e-04,\n",
       "         8.30896597e-04,   0.00000000e+00,   2.24720901e-03,\n",
       "         7.59726285e-04,   1.85894874e-03,   0.00000000e+00,\n",
       "         8.87424502e-04,   2.92448823e-04,   4.02931372e-04,\n",
       "         6.93532145e-04,   3.21292070e-04,   4.17297316e-04,\n",
       "         6.73168064e-03,   3.88158886e-03,   3.35418759e-04,\n",
       "         3.18674308e-02,   1.05944008e-03,   9.70009752e-04,\n",
       "         1.90063230e-04,   6.54786301e-04,   0.00000000e+00,\n",
       "         1.86619063e-05,   7.87128136e-05,   1.05534405e-04,\n",
       "         1.26739920e-04,   1.88469613e-04,   1.71083977e-04,\n",
       "         1.69954587e-04,   2.44903810e-04,   3.61622935e-04,\n",
       "         3.53672872e-04,   0.00000000e+00,   3.35177144e-04,\n",
       "         2.28675071e-04,   9.06224319e-05,   2.63490411e-05,\n",
       "         2.20086222e-05,   1.23843023e-05,   5.87278578e-04,\n",
       "         0.00000000e+00,   3.88851237e-04,   8.94980118e-05,\n",
       "         3.92291323e-04,   1.06280336e-05,   0.00000000e+00,\n",
       "         8.03332029e-04,   0.00000000e+00,   4.11395629e-04,\n",
       "         3.87993680e-04,   0.00000000e+00,   3.42750398e-04,\n",
       "         2.77539189e-04,   7.76830136e-05,   8.56935337e-05,\n",
       "         3.28152693e-05,   1.37258754e-05,   4.95555057e-05,\n",
       "         2.70182908e-05,   2.15087692e-05,   8.01264822e-06,\n",
       "         5.23132308e-05,   0.00000000e+00,   2.39892505e-05,\n",
       "         6.40765012e-06,   1.08656244e-05,   5.62980544e-05,\n",
       "         3.06256659e-05,   2.31311199e-08,   4.11624467e-05,\n",
       "         1.48750230e-05,   2.62583684e-05,   1.35813671e-05,\n",
       "         3.83218858e-05,   6.37725487e-05,   0.00000000e+00,\n",
       "         5.94250981e-04,   1.78653150e-04,   2.66536857e-04,\n",
       "         3.59624899e-04,   1.00495263e-04,   2.41739468e-04,\n",
       "         0.00000000e+00,   2.46301493e-04,   2.41906749e-04,\n",
       "         4.38393028e-02,   0.00000000e+00,   0.00000000e+00,\n",
       "         0.00000000e+00,   1.33602066e-04,   3.23181950e-04,\n",
       "         1.60433975e-04,   5.34725743e-04,   5.52495032e-04,\n",
       "         8.26477149e-05,   2.07796935e-05,   1.77275791e-04,\n",
       "         9.56012070e-05,   4.58103620e-04,   1.69546432e-04,\n",
       "         9.66969597e-05,   5.05578438e-05,   3.34589582e-05,\n",
       "         3.27196297e-04,   1.82227178e-04,   3.72919392e-05,\n",
       "         5.42000438e-05,   2.03795843e-04,   1.28393767e-04,\n",
       "         7.23997440e-05,   7.02339820e-05,   1.10588880e-04,\n",
       "         9.39576032e-05,   5.16840372e-05,   1.50138940e-04,\n",
       "         1.44882230e-04,   1.95998567e-04,   1.88071673e-04,\n",
       "         6.16725171e-05,   1.18092049e-04,   5.88363690e-05,\n",
       "         8.36210569e-05,   5.57353903e-05,   6.01759390e-05,\n",
       "         1.66369045e-04,   5.09922537e-05,   3.46867209e-04,\n",
       "         1.66239350e-04,   4.58702007e-05,   2.03410585e-04,\n",
       "         8.86308998e-05,   1.21903668e-04,   1.93326893e-04,\n",
       "         2.89029884e-05,   1.18848281e-04,   4.81361624e-05,\n",
       "         1.57575010e-04,   3.09142665e-04,   8.91244556e-05,\n",
       "         6.35559799e-05,   1.26134203e-04,   1.67448041e-04,\n",
       "         5.81218245e-05,   1.32825389e-04,   2.68125327e-05,\n",
       "         3.47315806e-07,   2.27763511e-06,   6.16675601e-06,\n",
       "         1.64314898e-06,   5.77274863e-07,   4.32984964e-06,\n",
       "         1.82822412e-06,   7.33583615e-06,   5.87453674e-04,\n",
       "         6.09003179e-04,   7.04246985e-04,   4.38107604e-02,\n",
       "         5.96703647e-04,   4.37477390e-04,   4.37820445e-02,\n",
       "         1.00717192e-03,   9.64722120e-04,   1.01644118e-03,\n",
       "         1.01467172e-03,   4.37998114e-02,   3.11682653e-04,\n",
       "         1.79673128e-04,   3.83555150e-05,   7.53017341e-06,\n",
       "         1.47185698e-05,   1.25533085e-04,   7.75926251e-06,\n",
       "         1.07892592e-04,   8.55774665e-05,   0.00000000e+00,\n",
       "         3.45732336e-04,   2.42713179e-04,   4.78704962e-06,\n",
       "         7.91150068e-06,   9.38356296e-06,   0.00000000e+00,\n",
       "         4.06770059e-06,   4.80554108e-06,   1.35251213e-05,\n",
       "         8.17901501e-07,   3.30613593e-07,   0.00000000e+00,\n",
       "         0.00000000e+00,   0.00000000e+00,   2.82271267e-06,\n",
       "         1.01710899e-05,   1.45512879e-06,   0.00000000e+00,\n",
       "         8.94892302e-06,   4.35837128e-06,   5.41934508e-06,\n",
       "         2.37408627e-08,   9.34519302e-06,   0.00000000e+00,\n",
       "         0.00000000e+00,   4.79024161e-06,   3.25025480e-06,\n",
       "         1.75094717e-05,   2.15808631e-06,   0.00000000e+00,\n",
       "         0.00000000e+00,   2.00371127e-06,   3.17615373e-06,\n",
       "         0.00000000e+00,   5.97736245e-07,   2.17184094e-06,\n",
       "         1.47270893e-05,   6.71963809e-05,   2.75698406e-06,\n",
       "         7.60882843e-09,   6.15469677e-07,   1.16600712e-05,\n",
       "         1.02821706e-04,   2.40715617e-05,   5.16236248e-05,\n",
       "         3.43185006e-06,   3.96743192e-07,   4.77130391e-05,\n",
       "         1.04256122e-04,   3.14809552e-06,   3.28812360e-06,\n",
       "         1.19519877e-06,   6.70068833e-06,   2.86127529e-05,\n",
       "         3.65596046e-06,   2.02375933e-05,   6.00800094e-05,\n",
       "         1.00870020e-05,   1.14363777e-05,   6.29209836e-06,\n",
       "         5.03310860e-06,   0.00000000e+00,   1.76486206e-06,\n",
       "         1.30151766e-06,   1.99667375e-06,   1.07813507e-06,\n",
       "         8.86511897e-05,   8.34473725e-05,   0.00000000e+00,\n",
       "         9.03531768e-05,   7.48861883e-05,   0.00000000e+00,\n",
       "         1.61351576e-04,   1.42717611e-04,   0.00000000e+00,\n",
       "         1.93464896e-04,   2.36504875e-04,   0.00000000e+00,\n",
       "         1.28397643e-04,   1.76219061e-05,   0.00000000e+00,\n",
       "         9.20720951e-05,   9.05263095e-05,   1.52329745e-05,\n",
       "         6.06353840e-06,   0.00000000e+00,   0.00000000e+00,\n",
       "         1.90154535e-05,   1.98642476e-05,   8.75058873e-02,\n",
       "         1.00704351e-04,   1.09133497e-04,   0.00000000e+00,\n",
       "         3.22068879e-04,   2.80951103e-04,   0.00000000e+00,\n",
       "         4.01218667e-04,   0.00000000e+00,   5.38966643e-04,\n",
       "         6.70255675e-04,   5.93733338e-04,   2.56694664e-04,\n",
       "         6.49892254e-04,   5.69795002e-04,   7.47973628e-05,\n",
       "         1.21544869e-06,   0.00000000e+00,   9.18889294e-05,\n",
       "         4.46999417e-05,   2.72743237e-05,   4.99739478e-05,\n",
       "         9.07461059e-05,   2.00473354e-05,   2.32589142e-05,\n",
       "         1.58329006e-05,   5.30024993e-05,   1.88900151e-05,\n",
       "         1.19746461e-04,   6.92654537e-06,   8.58172745e-07,\n",
       "         3.11744146e-05,   2.03178627e-06,   2.21944437e-05,\n",
       "         7.67083201e-05,   6.27196152e-05,   6.61326073e-06,\n",
       "         0.00000000e+00,   8.11773692e-05,   2.40263135e-04,\n",
       "         2.40116899e-05,   1.67758194e-04,   1.84980645e-04,\n",
       "         1.84487670e-04,   6.43335904e-05,   5.73558238e-05,\n",
       "         2.12946071e-05,   4.37995776e-02])"
      ]
     },
     "execution_count": 19,
     "metadata": {},
     "output_type": "execute_result"
    }
   ],
   "source": [
    "print(est_cv.best_score_)\n",
    "print(est_cv.best_params_)\n",
    "est = ensemble.RandomForestClassifier(n_estimators=18).fit(x,y)\n",
    "pd.Series(est.feature_importances_)"
   ]
  },
  {
   "cell_type": "markdown",
   "metadata": {},
   "source": [
    "#Generate Classifier Functions"
   ]
  },
  {
   "cell_type": "code",
   "execution_count": 20,
   "metadata": {
    "collapsed": false
   },
   "outputs": [
    {
     "name": "stdout",
     "output_type": "stream",
     "text": [
      "0.970893616019\n",
      "{'n_estimators': 24}\n",
      "0.971025404239\n",
      "{'n_estimators': 22}\n",
      "0.972291167975\n",
      "{'n_estimators': 24}\n",
      "0.970351483604\n",
      "{'n_estimators': 20}\n",
      "0.968222597918\n",
      "{'n_estimators': 18}\n",
      "0.969641926643\n",
      "{'n_estimators': 20}\n",
      "0.969501915709\n",
      "{'n_estimators': 22}\n",
      "0.967648686519\n",
      "{'n_estimators': 16}\n",
      "0.971566438263\n",
      "{'n_estimators': 24}\n"
     ]
    },
    {
     "ename": "IndexError",
     "evalue": "list index out of range",
     "output_type": "error",
     "traceback": [
      "\u001b[1;31m---------------------------------------------------------------------------\u001b[0m",
      "\u001b[1;31mIndexError\u001b[0m                                Traceback (most recent call last)",
      "\u001b[1;32m<ipython-input-20-ef5fea58a31e>\u001b[0m in \u001b[0;36m<module>\u001b[1;34m()\u001b[0m\n\u001b[0;32m      5\u001b[0m \u001b[1;33m\u001b[0m\u001b[0m\n\u001b[0;32m      6\u001b[0m \u001b[1;32mfor\u001b[0m \u001b[0mi\u001b[0m \u001b[1;32min\u001b[0m \u001b[0mrange\u001b[0m\u001b[1;33m(\u001b[0m\u001b[1;36m10\u001b[0m\u001b[1;33m)\u001b[0m\u001b[1;33m:\u001b[0m\u001b[1;33m\u001b[0m\u001b[0m\n\u001b[1;32m----> 7\u001b[1;33m     \u001b[0mpath\u001b[0m \u001b[1;33m=\u001b[0m \u001b[1;34m'C:/Users/Mathew/Data Science Project/'\u001b[0m \u001b[1;33m+\u001b[0m \u001b[0msplits\u001b[0m\u001b[1;33m[\u001b[0m\u001b[0mi\u001b[0m\u001b[1;33m]\u001b[0m\u001b[1;33m\u001b[0m\u001b[0m\n\u001b[0m\u001b[0;32m      8\u001b[0m     \u001b[0mframe\u001b[0m \u001b[1;33m=\u001b[0m \u001b[0mpd\u001b[0m\u001b[1;33m.\u001b[0m\u001b[0mread_csv\u001b[0m\u001b[1;33m(\u001b[0m\u001b[0mpath\u001b[0m\u001b[1;33m)\u001b[0m\u001b[1;33m\u001b[0m\u001b[0m\n\u001b[0;32m      9\u001b[0m     \u001b[0mframe\u001b[0m \u001b[1;33m=\u001b[0m \u001b[0mframe\u001b[0m\u001b[1;33m.\u001b[0m\u001b[0mdrop\u001b[0m\u001b[1;33m(\u001b[0m\u001b[1;33m[\u001b[0m\u001b[1;34m'PUMA'\u001b[0m\u001b[1;33m,\u001b[0m \u001b[1;34m'MIGPUMA'\u001b[0m\u001b[1;33m,\u001b[0m \u001b[1;34m'POWPUMA'\u001b[0m\u001b[1;33m,\u001b[0m \u001b[1;34m'ANC1P'\u001b[0m\u001b[1;33m,\u001b[0m \u001b[1;34m'ANC2P'\u001b[0m\u001b[1;33m,\u001b[0m \u001b[1;34m'FOD1P'\u001b[0m\u001b[1;33m,\u001b[0m \u001b[1;34m'FOD2P'\u001b[0m\u001b[1;33m,\u001b[0m \u001b[1;34m'INDP'\u001b[0m\u001b[1;33m,\u001b[0m \u001b[1;34m'LANP'\u001b[0m\u001b[1;33m,\u001b[0m \u001b[1;34m'POBP'\u001b[0m\u001b[1;33m,\u001b[0m \u001b[1;34m'MIGSP'\u001b[0m\u001b[1;33m,\u001b[0m \u001b[1;34m'RAC3P'\u001b[0m\u001b[1;33m]\u001b[0m\u001b[1;33m,\u001b[0m \u001b[1;36m1\u001b[0m\u001b[1;33m)\u001b[0m\u001b[1;33m\u001b[0m\u001b[0m\n",
      "\u001b[1;31mIndexError\u001b[0m: list index out of range"
     ]
    }
   ],
   "source": [
    "splits = ['Split_Data01.csv', 'Split_Data02.csv', 'Split_Data03.csv', 'Split_Data04.csv', 'Split_Data05.csv',\n",
    "          'Split_Data06.csv', 'Split_Data07.csv', 'Split_Data08.csv', 'Split_Data09.csv']\n",
    "pickles = ['estimator_pickle_01.pickle', 'estimator_pickle_02.pickle', 'estimator_pickle_03.pickle', 'estimator_pickle_04.pickle', 'estimator_pickle_05.pickle',\n",
    "           'estimator_pickle_06.pickle', 'estimator_pickle_07.pickle', 'estimator_pickle_08.pickle', 'estimator_pickle_09.pickle']\n",
    "\n",
    "for i in range(9):\n",
    "    path = 'C:/Users/Mathew/Data Science Project/' + splits[i]\n",
    "    frame = pd.read_csv(path)\n",
    "    frame = frame.drop(['PUMA', 'MIGPUMA', 'POWPUMA', 'ANC1P', 'ANC2P', 'FOD1P', 'FOD2P', 'INDP', 'LANP', 'POBP', 'MIGSP', 'RAC3P'], 1)\n",
    "    for feature in short_col_arr:\n",
    "        frame = pd.concat([frame, pd.get_dummies(frame[feature[1]], prefix = feature[1], dummy_na=True)], axis=1)\n",
    "        frame = frame.drop(feature[1],1)\n",
    "    frame = frame.fillna(value = -1)\n",
    "    frame = frame.drop('Unnamed: 0',1)\n",
    "    \n",
    "    y = frame['Y']\n",
    "    x = frame.drop('Y',1)\n",
    "\n",
    "    n_estimators_grid = [{'n_estimators': list(range(10,26,2))}]\n",
    "    estimator = ensemble.RandomForestClassifier()\n",
    "    est_cv = grid_search.GridSearchCV(estimator, n_estimators_grid, cv = 3).fit(x,y)\n",
    "    \n",
    "    print(est_cv.best_score_)\n",
    "    print(est_cv.best_params_)\n",
    "    \n",
    "    f = open(pickles[i], 'wb')\n",
    "    pickle.dump(est_cv, f)\n",
    "    f.close()\n",
    "    \n",
    "    del frame\n",
    "    \n",
    "#generate dummies\n",
    "#add dummies to dataframe\n",
    "#train model\n",
    "#save model as a pickle\n",
    "#delete dataframe"
   ]
  },
  {
   "cell_type": "markdown",
   "metadata": {},
   "source": [
    "#Setup the Test Dataset"
   ]
  },
  {
   "cell_type": "code",
   "execution_count": null,
   "metadata": {
    "collapsed": true
   },
   "outputs": [],
   "source": [
    "pickles = ['estimator_pickle_01.pickle', 'estimator_pickle_02.pickle', 'estimator_pickle_03.pickle', 'estimator_pickle_04.pickle', 'estimator_pickle_05.pickle',\n",
    "           'estimator_pickle_06.pickle', 'estimator_pickle_07.pickle', 'estimator_pickle_08.pickle', 'estimator_pickle_09.pickle']\n",
    "test = pd.read_csv('C:/Users/Mathew/Data Science Project/Split_Data10.csv')\n",
    "test = test.drop(['PUMA', 'MIGPUMA', 'POWPUMA', 'ANC1P', 'ANC2P', 'FOD1P', 'FOD2P', 'INDP', 'LANP', 'POBP', 'MIGSP', 'RAC3P'], 1)\n",
    "for feature in short_col_arr:\n",
    "    test = pd.concat([test, pd.get_dummies(test[feature[1]], prefix = feature[1], dummy_na=True)], axis=1)\n",
    "    test = test.drop(feature[1],1)\n",
    "test = test.fillna(value = -1)\n",
    "test = test.drop('Unnamed: 0',1)\n",
    "X = test.drop('Y',1)\n",
    "Y = test['Y']"
   ]
  },
  {
   "cell_type": "markdown",
   "metadata": {},
   "source": [
    "#Generate Predictions"
   ]
  },
  {
   "cell_type": "code",
   "execution_count": 40,
   "metadata": {
    "collapsed": false
   },
   "outputs": [],
   "source": [
    "predictions = []\n",
    "accuracies = []\n",
    "output = []\n",
    "for i in range(9):\n",
    "    f= open('C:/Users/Mathew/Data Science Project/' + pickles[i], 'rb')\n",
    "    estimator = pickle.load(f)\n",
    "    f.close()\n",
    "    prediction = estimator.predict(X)\n",
    "    predictions.append(prediction)\n",
    "    accuracies.append(metrics.accuracy_score(Y,prediction))\n",
    "predictions = pd.DataFrame(predictions)\n",
    "for i in range(len(predictions.columns)):\n",
    "    output.append(stats.mode(predictions[i]).mode)\n"
   ]
  },
  {
   "cell_type": "code",
   "execution_count": 41,
   "metadata": {
    "collapsed": false
   },
   "outputs": [
    {
     "name": "stdout",
     "output_type": "stream",
     "text": [
      "0.972706821673\n",
      "[0.96991765167217525, 0.96960512310971814, 0.97097317266613403, 0.97065769572101224, 0.97155695243374252, 0.97136825594320231, 0.97033042524523172, 0.97117955945266221, 0.96942527176717208]\n"
     ]
    }
   ],
   "source": [
    "print(metrics.accuracy_score(Y,output))\n",
    "print(accuracies)"
   ]
  },
  {
   "cell_type": "code",
   "execution_count": 45,
   "metadata": {
    "collapsed": false
   },
   "outputs": [
    {
     "name": "stdout",
     "output_type": "stream",
     "text": [
      "[[ 93947      0      0]\n",
      " [     0 226454    399]\n",
      " [     0   8858   9511]]\n"
     ]
    }
   ],
   "source": [
    "print(confusion_matrix(Y,output))"
   ]
  },
  {
   "cell_type": "code",
   "execution_count": null,
   "metadata": {
    "collapsed": true
   },
   "outputs": [],
   "source": []
  }
 ],
 "metadata": {
  "kernelspec": {
   "display_name": "Python 3",
   "language": "python",
   "name": "python3"
  },
  "language_info": {
   "codemirror_mode": {
    "name": "ipython",
    "version": 3
   },
   "file_extension": ".py",
   "mimetype": "text/x-python",
   "name": "python",
   "nbconvert_exporter": "python",
   "pygments_lexer": "ipython3",
   "version": "3.4.3"
  }
 },
 "nbformat": 4,
 "nbformat_minor": 0
}
