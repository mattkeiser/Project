{
 "cells": [
  {
   "cell_type": "code",
   "execution_count": 1,
   "metadata": {
    "collapsed": false
   },
   "outputs": [],
   "source": [
    "import numpy as np\n",
    "import pandas as pd\n",
    "import sklearn as sk\n",
    "import numpy as np\n",
    "import sklearn.cross_validation as cross_validation\n",
    "import sklearn.ensemble as ensemble\n",
    "import sklearn.grid_search as grid_search\n",
    "import sklearn.metrics as metrics\n",
    "from sklearn.metrics import confusion_matrix\n",
    "import pickle\n",
    "import scipy.stats as stats\n",
    "import matplotlib.pyplot as plt\n",
    "%matplotlib inline"
   ]
  },
  {
   "cell_type": "markdown",
   "metadata": {},
   "source": [
    "# Import and Combine Data"
   ]
  },
  {
   "cell_type": "code",
   "execution_count": 26,
   "metadata": {
    "collapsed": false
   },
   "outputs": [],
   "source": [
    "data1 = pd.read_csv('C:/Users/Mathew/Data Science Project/data/pums/ss13pusa.csv')"
   ]
  },
  {
   "cell_type": "code",
   "execution_count": 27,
   "metadata": {
    "collapsed": false
   },
   "outputs": [],
   "source": [
    "data2 = pd.read_csv('C:/Users/Mathew/Data Science Project/data/pums/ss13pusb.csv')"
   ]
  },
  {
   "cell_type": "code",
   "execution_count": 28,
   "metadata": {
    "collapsed": false
   },
   "outputs": [
    {
     "name": "stdout",
     "output_type": "stream",
     "text": [
      "(3132795, 283)\n"
     ]
    }
   ],
   "source": [
    "data = [data1, data2]\n",
    "data = pd.concat(data)\n",
    "print(data.shape)\n",
    "del data1\n",
    "del data2"
   ]
  },
  {
   "cell_type": "markdown",
   "metadata": {},
   "source": [
    "# Remove Non-Informational Features"
   ]
  },
  {
   "cell_type": "code",
   "execution_count": 29,
   "metadata": {
    "collapsed": false
   },
   "outputs": [
    {
     "data": {
      "text/plain": [
       "array(['RT', 'SERIALNO', 'SPORDER', 'PUMA', 'ST', 'ADJINC', 'PWGTP',\n",
       "       'AGEP', 'CIT', 'CITWP', 'COW', 'DDRS', 'DEAR', 'DEYE', 'DOUT',\n",
       "       'DPHY', 'DRAT', 'DRATX', 'DREM', 'ENG', 'FER', 'GCL', 'GCM', 'GCR',\n",
       "       'HINS1', 'HINS2', 'HINS3', 'HINS4', 'HINS5', 'HINS6', 'HINS7',\n",
       "       'INTP', 'JWMNP', 'JWRIP', 'JWTR', 'LANX', 'MAR', 'MARHD', 'MARHM',\n",
       "       'MARHT', 'MARHW', 'MARHYP', 'MIG', 'MIL', 'MLPA', 'MLPB', 'MLPCD',\n",
       "       'MLPE', 'MLPFG', 'MLPH', 'MLPI', 'MLPJ', 'MLPK', 'NWAB', 'NWAV',\n",
       "       'NWLA', 'NWLK', 'NWRE', 'OIP', 'PAP', 'RELP', 'RETP', 'SCH', 'SCHG',\n",
       "       'SCHL', 'SEMP', 'SEX', 'SSIP', 'SSP', 'WAGP', 'WKHP', 'WKL', 'WKW',\n",
       "       'WRK', 'YOEP', 'ANC', 'ANC1P', 'ANC2P', 'DECADE', 'DIS', 'DRIVESP',\n",
       "       'ESP', 'ESR', 'FOD1P', 'FOD2P', 'HICOV', 'HISP', 'INDP', 'JWAP',\n",
       "       'JWDP', 'LANP', 'MIGPUMA', 'MIGSP', 'MSP', 'NAICSP', 'NATIVITY',\n",
       "       'NOP', 'OC', 'OCCP', 'PAOC', 'PERNP', 'PINCP', 'POBP', 'POVPIP',\n",
       "       'POWPUMA', 'POWSP', 'PRIVCOV', 'PUBCOV', 'QTRBIR', 'RAC1P', 'RAC2P',\n",
       "       'RAC3P', 'RACAIAN', 'RACASN', 'RACBLK', 'RACNH', 'RACNUM', 'RACPI',\n",
       "       'RACSOR', 'RACWHT', 'RC', 'SCIENGP', 'SCIENGRLP', 'SFN', 'SFR',\n",
       "       'SOCP', 'VPS', 'WAOB', 'FAGEP', 'FANCP', 'FCITP', 'FCITWP', 'FCOWP',\n",
       "       'FDDRSP', 'FDEARP', 'FDEYEP', 'FDISP', 'FDOUTP', 'FDPHYP', 'FDRATP',\n",
       "       'FDRATXP', 'FDREMP', 'FENGP', 'FESRP', 'FFERP', 'FFODP', 'FGCLP',\n",
       "       'FGCMP', 'FGCRP', 'FHINS1P', 'FHINS2P', 'FHINS3C', 'FHINS3P',\n",
       "       'FHINS4C', 'FHINS4P', 'FHINS5C', 'FHINS5P', 'FHINS6P', 'FHINS7P',\n",
       "       'FHISP', 'FINDP', 'FINTP', 'FJWDP', 'FJWMNP', 'FJWRIP', 'FJWTRP',\n",
       "       'FLANP', 'FLANXP', 'FMARHDP', 'FMARHMP', 'FMARHTP', 'FMARHWP',\n",
       "       'FMARHYP', 'FMARP', 'FMIGP', 'FMIGSP', 'FMILPP', 'FMILSP', 'FOCCP',\n",
       "       'FOIP', 'FPAP', 'FPERNP', 'FPINCP', 'FPOBP', 'FPOWSP', 'FPRIVCOVP',\n",
       "       'FPUBCOVP', 'FRACP', 'FRELP', 'FRETP', 'FSCHGP', 'FSCHLP', 'FSCHP',\n",
       "       'FSEMP', 'FSEXP', 'FSSIP', 'FSSP', 'FWAGP', 'FWKHP', 'FWKLP',\n",
       "       'FWKWP', 'FWRKP', 'FYOEP', 'pwgtp1', 'pwgtp2', 'pwgtp3', 'pwgtp4',\n",
       "       'pwgtp5', 'pwgtp6', 'pwgtp7', 'pwgtp8', 'pwgtp9', 'pwgtp10',\n",
       "       'pwgtp11', 'pwgtp12', 'pwgtp13', 'pwgtp14', 'pwgtp15', 'pwgtp16',\n",
       "       'pwgtp17', 'pwgtp18', 'pwgtp19', 'pwgtp20', 'pwgtp21', 'pwgtp22',\n",
       "       'pwgtp23', 'pwgtp24', 'pwgtp25', 'pwgtp26', 'pwgtp27', 'pwgtp28',\n",
       "       'pwgtp29', 'pwgtp30', 'pwgtp31', 'pwgtp32', 'pwgtp33', 'pwgtp34',\n",
       "       'pwgtp35', 'pwgtp36', 'pwgtp37', 'pwgtp38', 'pwgtp39', 'pwgtp40',\n",
       "       'pwgtp41', 'pwgtp42', 'pwgtp43', 'pwgtp44', 'pwgtp45', 'pwgtp46',\n",
       "       'pwgtp47', 'pwgtp48', 'pwgtp49', 'pwgtp50', 'pwgtp51', 'pwgtp52',\n",
       "       'pwgtp53', 'pwgtp54', 'pwgtp55', 'pwgtp56', 'pwgtp57', 'pwgtp58',\n",
       "       'pwgtp59', 'pwgtp60', 'pwgtp61', 'pwgtp62', 'pwgtp63', 'pwgtp64',\n",
       "       'pwgtp65', 'pwgtp66', 'pwgtp67', 'pwgtp68', 'pwgtp69', 'pwgtp70',\n",
       "       'pwgtp71', 'pwgtp72', 'pwgtp73', 'pwgtp74', 'pwgtp75', 'pwgtp76',\n",
       "       'pwgtp77', 'pwgtp78', 'pwgtp79', 'pwgtp80'], dtype=object)"
      ]
     },
     "execution_count": 29,
     "metadata": {},
     "output_type": "execute_result"
    }
   ],
   "source": [
    "data.columns.values"
   ]
  },
  {
   "cell_type": "code",
   "execution_count": 30,
   "metadata": {
    "collapsed": false
   },
   "outputs": [],
   "source": [
    "data = data.drop(['RT', 'SERIALNO', 'SPORDER', 'ADJINC', 'NAICSP', \n",
    "       'OCCP', 'SOCP', 'FAGEP', 'FANCP', 'FCITP', 'FCITWP', 'FCOWP',\n",
    "       'FDDRSP', 'FDEARP', 'FDEYEP', 'FDISP', 'FDOUTP', 'FDPHYP', 'FDRATP',\n",
    "       'FDRATXP', 'FDREMP', 'FENGP', 'FESRP', 'FFERP', 'FFODP', 'FGCLP',\n",
    "       'FGCMP', 'FGCRP', 'FHINS1P', 'FHINS2P', 'FHINS3C', 'FHINS3P',\n",
    "       'FHINS4C', 'FHINS4P', 'FHINS5C', 'FHINS5P', 'FHINS6P', 'FHINS7P',\n",
    "       'FHISP', 'FINDP', 'FINTP', 'FJWDP', 'FJWMNP', 'FJWRIP', 'FJWTRP',\n",
    "       'FLANP', 'FLANXP', 'FMARHDP', 'FMARHMP', 'FMARHTP', 'FMARHWP',\n",
    "       'FMARHYP', 'FMARP', 'FMIGP', 'FMIGSP', 'FMILPP', 'FMILSP', 'FOCCP',\n",
    "       'FOIP', 'FPAP', 'FPERNP', 'FPINCP', 'FPOBP', 'FPOWSP', 'FPRIVCOVP',\n",
    "       'FPUBCOVP', 'FRACP', 'FRELP', 'FRETP', 'FSCHGP', 'FSCHLP', 'FSCHP',\n",
    "       'FSEMP', 'FSEXP', 'FSSIP', 'FSSP', 'FWAGP', 'FWKHP', 'FWKLP',\n",
    "       'FWKWP', 'FWRKP', 'FYOEP', 'pwgtp1', 'pwgtp2', 'pwgtp3', 'pwgtp4',\n",
    "       'pwgtp5', 'pwgtp6', 'pwgtp7', 'pwgtp8', 'pwgtp9', 'pwgtp10',\n",
    "       'pwgtp11', 'pwgtp12', 'pwgtp13', 'pwgtp14', 'pwgtp15', 'pwgtp16',\n",
    "       'pwgtp17', 'pwgtp18', 'pwgtp19', 'pwgtp20', 'pwgtp21', 'pwgtp22',\n",
    "       'pwgtp23', 'pwgtp24', 'pwgtp25', 'pwgtp26', 'pwgtp27', 'pwgtp28',\n",
    "       'pwgtp29', 'pwgtp30', 'pwgtp31', 'pwgtp32', 'pwgtp33', 'pwgtp34',\n",
    "       'pwgtp35', 'pwgtp36', 'pwgtp37', 'pwgtp38', 'pwgtp39', 'pwgtp40',\n",
    "       'pwgtp41', 'pwgtp42', 'pwgtp43', 'pwgtp44', 'pwgtp45', 'pwgtp46',\n",
    "       'pwgtp47', 'pwgtp48', 'pwgtp49', 'pwgtp50', 'pwgtp51', 'pwgtp52',\n",
    "       'pwgtp53', 'pwgtp54', 'pwgtp55', 'pwgtp56', 'pwgtp57', 'pwgtp58',\n",
    "       'pwgtp59', 'pwgtp60', 'pwgtp61', 'pwgtp62', 'pwgtp63', 'pwgtp64',\n",
    "       'pwgtp65', 'pwgtp66', 'pwgtp67', 'pwgtp68', 'pwgtp69', 'pwgtp70',\n",
    "       'pwgtp71', 'pwgtp72', 'pwgtp73', 'pwgtp74', 'pwgtp75', 'pwgtp76',\n",
    "       'pwgtp77', 'pwgtp78', 'pwgtp79', 'pwgtp80'],1)"
   ]
  },
  {
   "cell_type": "markdown",
   "metadata": {},
   "source": [
    "# Select for Only Adults"
   ]
  },
  {
   "cell_type": "code",
   "execution_count": 31,
   "metadata": {
    "collapsed": true
   },
   "outputs": [],
   "source": [
    "data = data[data['AGEP'] >= 18]"
   ]
  },
  {
   "cell_type": "code",
   "execution_count": 32,
   "metadata": {
    "collapsed": false
   },
   "outputs": [],
   "source": [
    "data = data[np.isfinite(data['COW'])]"
   ]
  },
  {
   "cell_type": "code",
   "execution_count": 33,
   "metadata": {
    "collapsed": false
   },
   "outputs": [
    {
     "data": {
      "text/plain": [
       "(1815975, 121)"
      ]
     },
     "execution_count": 33,
     "metadata": {},
     "output_type": "execute_result"
    }
   ],
   "source": [
    "data.shape"
   ]
  },
  {
   "cell_type": "markdown",
   "metadata": {},
   "source": [
    "# Set Up Target Feature"
   ]
  },
  {
   "cell_type": "code",
   "execution_count": 34,
   "metadata": {
    "collapsed": false
   },
   "outputs": [
    {
     "data": {
      "text/plain": [
       "1          1\n",
       "2          6\n",
       "5          3\n",
       "7          1\n",
       "9          2\n",
       "11         1\n",
       "12         1\n",
       "16         4\n",
       "17         3\n",
       "18         1\n",
       "22         1\n",
       "23         2\n",
       "24         1\n",
       "25         1\n",
       "26         3\n",
       "27         4\n",
       "32         1\n",
       "33         1\n",
       "35         1\n",
       "36         1\n",
       "37         1\n",
       "42         6\n",
       "43         1\n",
       "49         3\n",
       "50         1\n",
       "51         1\n",
       "52         1\n",
       "56         1\n",
       "57         1\n",
       "58         1\n",
       "          ..\n",
       "1519075    1\n",
       "1519076    1\n",
       "1519077    1\n",
       "1519080    4\n",
       "1519081    6\n",
       "1519082    4\n",
       "1519083    6\n",
       "1519084    1\n",
       "1519088    1\n",
       "1519089    7\n",
       "1519090    1\n",
       "1519091    1\n",
       "1519092    1\n",
       "1519093    3\n",
       "1519095    5\n",
       "1519096    3\n",
       "1519098    1\n",
       "1519099    1\n",
       "1519100    1\n",
       "1519104    1\n",
       "1519105    1\n",
       "1519109    1\n",
       "1519110    1\n",
       "1519113    1\n",
       "1519115    1\n",
       "1519116    1\n",
       "1519118    3\n",
       "1519119    1\n",
       "1519120    3\n",
       "1519121    1\n",
       "Name: COW, dtype: float64"
      ]
     },
     "execution_count": 34,
     "metadata": {},
     "output_type": "execute_result"
    }
   ],
   "source": [
    "data['COW']"
   ]
  },
  {
   "cell_type": "markdown",
   "metadata": {},
   "source": [
    "# Generate Categorical (Short) and Continuous (Long) Feature Lists"
   ]
  },
  {
   "cell_type": "code",
   "execution_count": 12,
   "metadata": {
    "collapsed": false
   },
   "outputs": [],
   "source": [
    "col_len_arr = []\n",
    "for col in data.columns.values:\n",
    "    col_len = len(np.unique(data[pd.notnull(data[col])][col]))\n",
    "    col_len_arr.append([col_len, col])"
   ]
  },
  {
   "cell_type": "code",
   "execution_count": 13,
   "metadata": {
    "collapsed": false
   },
   "outputs": [
    {
     "name": "stdout",
     "output_type": "stream",
     "text": [
      "[[982, 'PUMA'], [1163, 'PWGTP'], [78, 'AGEP'], [73, 'CITWP'], [720, 'INTP'], [138, 'JWMNP'], [81, 'MARHYP'], [609, 'OIP'], [347, 'PAP'], [660, 'RETP'], [295, 'SSIP'], [587, 'SSP'], [907, 'WAGP'], [99, 'WKHP'], [83, 'YOEP'], [231, 'ANC1P'], [230, 'ANC2P'], [173, 'FOD1P'], [172, 'FOD2P'], [267, 'INDP'], [285, 'JWAP'], [150, 'JWDP'], [109, 'LANP'], [211, 'MIGPUMA'], [100, 'MIGSP'], [5148, 'PERNP'], [19858, 'PINCP'], [215, 'POBP'], [502, 'POVPIP'], [217, 'POWPUMA'], [100, 'RAC3P']]\n",
      "[[51, 'ST'], [5, 'CIT'], [2, 'DDRS'], [2, 'DEAR'], [2, 'DEYE'], [2, 'DOUT'], [2, 'DPHY'], [6, 'DRAT'], [2, 'DRATX'], [2, 'DREM'], [4, 'ENG'], [2, 'FER'], [2, 'GCL'], [5, 'GCM'], [2, 'GCR'], [2, 'HINS1'], [2, 'HINS2'], [2, 'HINS3'], [2, 'HINS4'], [2, 'HINS5'], [2, 'HINS6'], [2, 'HINS7'], [10, 'JWRIP'], [12, 'JWTR'], [2, 'LANX'], [5, 'MAR'], [2, 'MARHD'], [2, 'MARHM'], [3, 'MARHT'], [2, 'MARHW'], [3, 'MIG'], [4, 'MIL'], [2, 'MLPA'], [2, 'MLPB'], [2, 'MLPCD'], [2, 'MLPE'], [2, 'MLPFG'], [2, 'MLPH'], [2, 'MLPI'], [2, 'MLPJ'], [2, 'MLPK'], [3, 'NWAB'], [5, 'NWAV'], [3, 'NWLA'], [3, 'NWLK'], [3, 'NWRE'], [18, 'RELP'], [3, 'SCH'], [9, 'SCHG'], [24, 'SCHL'], [2, 'SEX'], [3, 'WKL'], [6, 'WKW'], [2, 'WRK'], [4, 'ANC'], [7, 'DECADE'], [2, 'DIS'], [6, 'DRIVESP'], [0, 'ESP'], [6, 'ESR'], [2, 'HICOV'], [24, 'HISP'], [6, 'MSP'], [2, 'NATIVITY'], [0, 'NOP'], [1, 'OC'], [4, 'PAOC'], [59, 'POWSP'], [2, 'PRIVCOV'], [2, 'PUBCOV'], [4, 'QTRBIR'], [9, 'RAC1P'], [68, 'RAC2P'], [2, 'RACAIAN'], [2, 'RACASN'], [2, 'RACBLK'], [2, 'RACNH'], [5, 'RACNUM'], [2, 'RACPI'], [2, 'RACSOR'], [2, 'RACWHT'], [1, 'RC'], [2, 'SCIENGP'], [2, 'SCIENGRLP'], [3, 'SFN'], [3, 'SFR'], [15, 'VPS'], [8, 'WAOB']]\n"
     ]
    }
   ],
   "source": [
    "long_col_arr = []\n",
    "short_col_arr = []\n",
    "\n",
    "for i in col_len_arr:\n",
    "    if i[0] >= 70:\n",
    "        long_col_arr.append(i)\n",
    "    else:\n",
    "        short_col_arr.append(i)\n",
    "print(long_col_arr)\n",
    "print(short_col_arr)"
   ]
  },
  {
   "cell_type": "code",
   "execution_count": 21,
   "metadata": {
    "collapsed": false
   },
   "outputs": [],
   "source": [
    "pd.DataFrame(long_col_arr).to_csv(path_or_buf='C:/Users/Mathew/Data Science Project/long_col_arr.csv')"
   ]
  },
  {
   "cell_type": "code",
   "execution_count": 22,
   "metadata": {
    "collapsed": true
   },
   "outputs": [],
   "source": [
    "pd.DataFrame(short_col_arr).to_csv(path_or_buf='C:/Users/Mathew/Data Science Project/short_col_arr.csv')"
   ]
  },
  {
   "cell_type": "markdown",
   "metadata": {},
   "source": [
    "# Split the Dataset"
   ]
  },
  {
   "cell_type": "code",
   "execution_count": 35,
   "metadata": {
    "collapsed": false
   },
   "outputs": [],
   "source": [
    "skf = cross_validation.StratifiedKFold(data['COW'], n_folds=10, shuffle = True)"
   ]
  },
  {
   "cell_type": "code",
   "execution_count": 36,
   "metadata": {
    "collapsed": false
   },
   "outputs": [],
   "source": [
    "split = []\n",
    "for i,j in skf:\n",
    "    split.append(j)"
   ]
  },
  {
   "cell_type": "code",
   "execution_count": 37,
   "metadata": {
    "collapsed": false
   },
   "outputs": [
    {
     "data": {
      "text/plain": [
       "[array([     29,      43,      66, ..., 1815949, 1815951, 1815968]),\n",
       " array([      0,      15,      20, ..., 1815940, 1815960, 1815971]),\n",
       " array([      9,      12,      28, ..., 1815909, 1815952, 1815963]),\n",
       " array([     21,      32,      38, ..., 1815944, 1815950, 1815974]),\n",
       " array([      6,      27,      40, ..., 1815943, 1815967, 1815969]),\n",
       " array([      4,       7,       8, ..., 1815938, 1815948, 1815956]),\n",
       " array([      3,      18,      23, ..., 1815953, 1815955, 1815966]),\n",
       " array([     11,      16,      22, ..., 1815959, 1815965, 1815970]),\n",
       " array([     10,      13,      52, ..., 1815961, 1815962, 1815972]),\n",
       " array([      1,       2,       5, ..., 1815957, 1815964, 1815973])]"
      ]
     },
     "execution_count": 37,
     "metadata": {},
     "output_type": "execute_result"
    }
   ],
   "source": [
    "split"
   ]
  },
  {
   "cell_type": "code",
   "execution_count": 38,
   "metadata": {
    "collapsed": false
   },
   "outputs": [],
   "source": [
    "data.loc[split[0]].to_csv(path_or_buf='C:/Users/Mathew/Data Science Project/Split_Data01.csv')\n",
    "data.loc[split[1]].to_csv(path_or_buf='C:/Users/Mathew/Data Science Project/Split_Data02.csv')\n",
    "data.loc[split[2]].to_csv(path_or_buf='C:/Users/Mathew/Data Science Project/Split_Data03.csv')\n",
    "data.loc[split[3]].to_csv(path_or_buf='C:/Users/Mathew/Data Science Project/Split_Data04.csv')\n",
    "data.loc[split[4]].to_csv(path_or_buf='C:/Users/Mathew/Data Science Project/Split_Data05.csv')\n",
    "data.loc[split[5]].to_csv(path_or_buf='C:/Users/Mathew/Data Science Project/Split_Data06.csv')\n",
    "data.loc[split[6]].to_csv(path_or_buf='C:/Users/Mathew/Data Science Project/Split_Data07.csv')\n",
    "data.loc[split[7]].to_csv(path_or_buf='C:/Users/Mathew/Data Science Project/Split_Data08.csv')\n",
    "data.loc[split[8]].to_csv(path_or_buf='C:/Users/Mathew/Data Science Project/Split_Data09.csv')\n",
    "data.loc[split[9]].to_csv(path_or_buf='C:/Users/Mathew/Data Science Project/Split_Data10.csv')\n",
    "#del data"
   ]
  },
  {
   "cell_type": "code",
   "execution_count": 21,
   "metadata": {
    "collapsed": true
   },
   "outputs": [],
   "source": [
    "del data"
   ]
  },
  {
   "cell_type": "markdown",
   "metadata": {},
   "source": [
    "# Test the Training Procedure"
   ]
  },
  {
   "cell_type": "code",
   "execution_count": 2,
   "metadata": {
    "collapsed": false
   },
   "outputs": [
    {
     "data": {
      "text/plain": [
       "array([[51, 'ST'],\n",
       "       [5, 'CIT'],\n",
       "       [2, 'DDRS'],\n",
       "       [2, 'DEAR'],\n",
       "       [2, 'DEYE'],\n",
       "       [2, 'DOUT'],\n",
       "       [2, 'DPHY'],\n",
       "       [6, 'DRAT'],\n",
       "       [2, 'DRATX'],\n",
       "       [2, 'DREM'],\n",
       "       [4, 'ENG'],\n",
       "       [2, 'FER'],\n",
       "       [2, 'GCL'],\n",
       "       [5, 'GCM'],\n",
       "       [2, 'GCR'],\n",
       "       [2, 'HINS1'],\n",
       "       [2, 'HINS2'],\n",
       "       [2, 'HINS3'],\n",
       "       [2, 'HINS4'],\n",
       "       [2, 'HINS5'],\n",
       "       [2, 'HINS6'],\n",
       "       [2, 'HINS7'],\n",
       "       [10, 'JWRIP'],\n",
       "       [12, 'JWTR'],\n",
       "       [2, 'LANX'],\n",
       "       [5, 'MAR'],\n",
       "       [2, 'MARHD'],\n",
       "       [2, 'MARHM'],\n",
       "       [3, 'MARHT'],\n",
       "       [2, 'MARHW'],\n",
       "       [3, 'MIG'],\n",
       "       [4, 'MIL'],\n",
       "       [2, 'MLPA'],\n",
       "       [2, 'MLPB'],\n",
       "       [2, 'MLPCD'],\n",
       "       [2, 'MLPE'],\n",
       "       [2, 'MLPFG'],\n",
       "       [2, 'MLPH'],\n",
       "       [2, 'MLPI'],\n",
       "       [2, 'MLPJ'],\n",
       "       [2, 'MLPK'],\n",
       "       [3, 'NWAB'],\n",
       "       [5, 'NWAV'],\n",
       "       [3, 'NWLA'],\n",
       "       [3, 'NWLK'],\n",
       "       [3, 'NWRE'],\n",
       "       [18, 'RELP'],\n",
       "       [3, 'SCH'],\n",
       "       [9, 'SCHG'],\n",
       "       [24, 'SCHL'],\n",
       "       [2, 'SEX'],\n",
       "       [3, 'WKL'],\n",
       "       [6, 'WKW'],\n",
       "       [2, 'WRK'],\n",
       "       [4, 'ANC'],\n",
       "       [7, 'DECADE'],\n",
       "       [2, 'DIS'],\n",
       "       [6, 'DRIVESP'],\n",
       "       [0, 'ESP'],\n",
       "       [6, 'ESR'],\n",
       "       [2, 'HICOV'],\n",
       "       [24, 'HISP'],\n",
       "       [6, 'MSP'],\n",
       "       [2, 'NATIVITY'],\n",
       "       [0, 'NOP'],\n",
       "       [1, 'OC'],\n",
       "       [4, 'PAOC'],\n",
       "       [59, 'POWSP'],\n",
       "       [2, 'PRIVCOV'],\n",
       "       [2, 'PUBCOV'],\n",
       "       [4, 'QTRBIR'],\n",
       "       [9, 'RAC1P'],\n",
       "       [68, 'RAC2P'],\n",
       "       [2, 'RACAIAN'],\n",
       "       [2, 'RACASN'],\n",
       "       [2, 'RACBLK'],\n",
       "       [2, 'RACNH'],\n",
       "       [5, 'RACNUM'],\n",
       "       [2, 'RACPI'],\n",
       "       [2, 'RACSOR'],\n",
       "       [2, 'RACWHT'],\n",
       "       [1, 'RC'],\n",
       "       [2, 'SCIENGP'],\n",
       "       [2, 'SCIENGRLP'],\n",
       "       [3, 'SFN'],\n",
       "       [3, 'SFR'],\n",
       "       [15, 'VPS'],\n",
       "       [8, 'WAOB']], dtype=object)"
      ]
     },
     "execution_count": 2,
     "metadata": {},
     "output_type": "execute_result"
    }
   ],
   "source": [
    "short_col_arr = pd.read_csv('C:/Users/Mathew/Data Science Project/short_col_arr.csv')\n",
    "short_col_arr = short_col_arr.drop('Unnamed: 0',1)\n",
    "short_col_arr = np.array(short_col_arr)\n",
    "short_col_arr"
   ]
  },
  {
   "cell_type": "code",
   "execution_count": 2,
   "metadata": {
    "collapsed": false
   },
   "outputs": [],
   "source": [
    "path = 'C:/Users/Mathew/Data Science Project/Split_Data01.csv'\n",
    "frame = pd.read_csv(path)\n",
    "short_col_arr = pd.read_csv('C:/Users/Mathew/Data Science Project/short_col_arr.csv')\n",
    "short_col_arr = np.array(short_col_arr.drop('Unnamed: 0',1))\n",
    "frame = frame.drop(['COW', 'PUMA', 'MIGPUMA', 'POWPUMA', 'ANC1P', 'ANC2P', 'FOD1P', 'FOD2P', 'INDP', 'LANP', 'POBP', 'MIGSP', 'RAC3P'], 1)\n",
    "for feature in short_col_arr:\n",
    "    frame = pd.concat([frame, pd.get_dummies(frame[feature[1]], prefix = feature[1], dummy_na=True)], axis=1)\n",
    "    frame = frame.drop(feature[1],1)\n",
    "frame = frame.drop('Unnamed: 0',1)\n",
    "\n",
    "x = frame.drop('SEMP',1).fillna(value = -1)"
   ]
  },
  {
   "cell_type": "code",
   "execution_count": 3,
   "metadata": {
    "collapsed": false
   },
   "outputs": [
    {
     "data": {
      "text/plain": [
       "0.065710414829788608"
      ]
     },
     "execution_count": 3,
     "metadata": {},
     "output_type": "execute_result"
    }
   ],
   "source": [
    "y = ((frame['SEMP'] > 0) | (frame['SEMP'] < 0))*1.0\n",
    "sum(y)/len(y)"
   ]
  },
  {
   "cell_type": "code",
   "execution_count": 5,
   "metadata": {
    "collapsed": false
   },
   "outputs": [
    {
     "name": "stdout",
     "output_type": "stream",
     "text": [
      "[[162923      0]\n",
      " [    66  11389]]\n",
      "[[54280    24]\n",
      " [ 1512  2311]]\n"
     ]
    }
   ],
   "source": [
    "x_train,x_test,y_train,y_test = cross_validation.train_test_split(x, y, random_state = 0)\n",
    "\n",
    "n_estimators_grid = {'n_estimators': [37,38,39,40,41]}\n",
    "sw = np.array([1 if i == 0 else 5 for i in y_train])\n",
    "estimator = ensemble.RandomForestClassifier()\n",
    "est_base = grid_search.GridSearchCV(estimator, n_estimators_grid, cv = 3, scoring = 'roc_auc').fit(x_train, y_train)\n",
    "\n",
    "print(confusion_matrix(y_train,est_base.predict(x_train)))\n",
    "print(confusion_matrix(y_test,est_base.predict(x_test)))"
   ]
  },
  {
   "cell_type": "code",
   "execution_count": 93,
   "metadata": {
    "collapsed": false
   },
   "outputs": [
    {
     "data": {
      "text/plain": [
       "0.3847763536489668"
      ]
     },
     "execution_count": 93,
     "metadata": {},
     "output_type": "execute_result"
    }
   ],
   "source": [
    "1471/(1471+2352)"
   ]
  },
  {
   "cell_type": "code",
   "execution_count": 10,
   "metadata": {
    "collapsed": false
   },
   "outputs": [
    {
     "name": "stdout",
     "output_type": "stream",
     "text": [
      "[[162909     14]\n",
      " [  3769   7686]]\n",
      "[[54298     6]\n",
      " [ 1241  2582]]\n"
     ]
    }
   ],
   "source": [
    "x_train,x_test,y_train,y_test = cross_validation.train_test_split(x, y, random_state = 0)\n",
    "\n",
    "n_estimators_grid = {'n_estimators': [100,110, 120, 130, 140, 150]}\n",
    "sw = np.array([1 if i == 0 else 5 for i in y_train])\n",
    "estimator = ensemble.AdaBoostClassifier()\n",
    "est_base = grid_search.GridSearchCV(estimator, n_estimators_grid, cv = 3, scoring = 'roc_auc').fit(x_train, y_train)\n",
    "\n",
    "print(confusion_matrix(y_train,est_base.predict(x_train)))\n",
    "print(confusion_matrix(y_test,est_base.predict(x_test)))"
   ]
  },
  {
   "cell_type": "code",
   "execution_count": 11,
   "metadata": {
    "collapsed": false
   },
   "outputs": [
    {
     "name": "stdout",
     "output_type": "stream",
     "text": [
      "{'n_estimators': 150}\n",
      "0.961294715755\n"
     ]
    }
   ],
   "source": [
    "print(est_base.best_params_)\n",
    "print(est_base.best_score_)"
   ]
  },
  {
   "cell_type": "markdown",
   "metadata": {},
   "source": [
    "#Generate Classifier Functions"
   ]
  },
  {
   "cell_type": "code",
   "execution_count": 2,
   "metadata": {
    "collapsed": false
   },
   "outputs": [
    {
     "name": "stdout",
     "output_type": "stream",
     "text": [
      "0.905644443455\n",
      "{'n_estimators': 200}\n",
      "0.91834468326\n",
      "{'n_estimators': 200}\n",
      "0.903436544146\n",
      "{'n_estimators': 200}\n",
      "0.907816817825\n",
      "{'n_estimators': 175}\n",
      "0.901767448215\n",
      "{'n_estimators': 200}\n"
     ]
    },
    {
     "ename": "IndexError",
     "evalue": "list index out of range",
     "output_type": "error",
     "traceback": [
      "\u001b[1;31m---------------------------------------------------------------------------\u001b[0m",
      "\u001b[1;31mIndexError\u001b[0m                                Traceback (most recent call last)",
      "\u001b[1;32m<ipython-input-2-575c45c9c2c3>\u001b[0m in \u001b[0;36m<module>\u001b[1;34m()\u001b[0m\n\u001b[0;32m      5\u001b[0m \u001b[1;33m\u001b[0m\u001b[0m\n\u001b[0;32m      6\u001b[0m \u001b[1;32mfor\u001b[0m \u001b[0mi\u001b[0m \u001b[1;32min\u001b[0m \u001b[0mrange\u001b[0m\u001b[1;33m(\u001b[0m\u001b[1;36m7\u001b[0m\u001b[1;33m)\u001b[0m\u001b[1;33m:\u001b[0m\u001b[1;33m\u001b[0m\u001b[0m\n\u001b[1;32m----> 7\u001b[1;33m     \u001b[0mpath\u001b[0m \u001b[1;33m=\u001b[0m \u001b[1;34m'C:/Users/Mathew/Data Science Project/'\u001b[0m \u001b[1;33m+\u001b[0m \u001b[0msplits\u001b[0m\u001b[1;33m[\u001b[0m\u001b[0mi\u001b[0m\u001b[1;33m]\u001b[0m\u001b[1;33m\u001b[0m\u001b[0m\n\u001b[0m\u001b[0;32m      8\u001b[0m     \u001b[0mframe\u001b[0m \u001b[1;33m=\u001b[0m \u001b[0mpd\u001b[0m\u001b[1;33m.\u001b[0m\u001b[0mread_csv\u001b[0m\u001b[1;33m(\u001b[0m\u001b[0mpath\u001b[0m\u001b[1;33m)\u001b[0m\u001b[1;33m\u001b[0m\u001b[0m\n\u001b[0;32m      9\u001b[0m     \u001b[0mframe\u001b[0m \u001b[1;33m=\u001b[0m \u001b[0mframe\u001b[0m\u001b[1;33m.\u001b[0m\u001b[0mdrop\u001b[0m\u001b[1;33m(\u001b[0m\u001b[1;33m[\u001b[0m\u001b[1;34m'COW'\u001b[0m\u001b[1;33m,\u001b[0m \u001b[1;34m'PUMA'\u001b[0m\u001b[1;33m,\u001b[0m \u001b[1;34m'MIGPUMA'\u001b[0m\u001b[1;33m,\u001b[0m \u001b[1;34m'POWPUMA'\u001b[0m\u001b[1;33m,\u001b[0m \u001b[1;34m'ANC1P'\u001b[0m\u001b[1;33m,\u001b[0m \u001b[1;34m'ANC2P'\u001b[0m\u001b[1;33m,\u001b[0m \u001b[1;34m'FOD1P'\u001b[0m\u001b[1;33m,\u001b[0m \u001b[1;34m'FOD2P'\u001b[0m\u001b[1;33m,\u001b[0m \u001b[1;34m'INDP'\u001b[0m\u001b[1;33m,\u001b[0m \u001b[1;34m'LANP'\u001b[0m\u001b[1;33m,\u001b[0m \u001b[1;34m'POBP'\u001b[0m\u001b[1;33m,\u001b[0m \u001b[1;34m'MIGSP'\u001b[0m\u001b[1;33m,\u001b[0m \u001b[1;34m'RAC3P'\u001b[0m\u001b[1;33m]\u001b[0m\u001b[1;33m,\u001b[0m \u001b[1;36m1\u001b[0m\u001b[1;33m)\u001b[0m\u001b[1;33m\u001b[0m\u001b[0m\n",
      "\u001b[1;31mIndexError\u001b[0m: list index out of range"
     ]
    }
   ],
   "source": [
    "splits = ['Split_Data05.csv', 'Split_Data06.csv', 'Split_Data07.csv', 'Split_Data08.csv', 'Split_Data09.csv']\n",
    "pickles = ['estimator_pickle_05.pickle', 'estimator_pickle_06.pickle', 'estimator_pickle_07.pickle', 'estimator_pickle_08.pickle', 'estimator_pickle_09.pickle']\n",
    "short_col_arr = pd.read_csv('C:/Users/Mathew/Data Science Project/short_col_arr.csv')\n",
    "short_col_arr = np.array(short_col_arr.drop('Unnamed: 0',1))\n",
    "\n",
    "for i in range(7):\n",
    "    path = 'C:/Users/Mathew/Data Science Project/' + splits[i]\n",
    "    frame = pd.read_csv(path)\n",
    "    frame = frame.drop(['COW', 'PUMA', 'MIGPUMA', 'POWPUMA', 'ANC1P', 'ANC2P', 'FOD1P', 'FOD2P', 'INDP', 'LANP', 'POBP', 'MIGSP', 'RAC3P'], 1)\n",
    "    for feature in short_col_arr:\n",
    "        frame = pd.concat([frame, pd.get_dummies(frame[feature[1]], prefix = feature[1], dummy_na=True)], axis=1)\n",
    "        frame = frame.drop(feature[1],1)\n",
    "    frame = frame.drop('Unnamed: 0',1)\n",
    "    \n",
    "    y = ((frame['SEMP'] > 0) | (frame['SEMP'] < 0))*1.0\n",
    "    x = frame.drop('SEMP',1).fillna(value = -1)\n",
    "\n",
    "    n_estimators_grid = {'n_estimators': [150, 175, 200]}\n",
    "    estimator = ensemble.AdaBoostClassifier()\n",
    "    est_cv = grid_search.GridSearchCV(estimator, n_estimators_grid, cv = 3, scoring = 'roc_auc').fit(x, y)\n",
    "    \n",
    "    print(est_cv.best_score_)\n",
    "    print(est_cv.best_params_)\n",
    "    \n",
    "    f = open(pickles[i], 'wb')\n",
    "    pickle.dump(est_cv, f)\n",
    "    f.close()\n",
    "    \n",
    "    del frame\n",
    "    \n",
    "#generate dummies\n",
    "#add dummies to dataframe\n",
    "#train model\n",
    "#save model as a pickle\n",
    "#delete dataframe"
   ]
  },
  {
   "cell_type": "markdown",
   "metadata": {},
   "source": [
    "# Setup the Test Dataset"
   ]
  },
  {
   "cell_type": "code",
   "execution_count": 37,
   "metadata": {
    "collapsed": false
   },
   "outputs": [],
   "source": [
    "pickles = ['estimator_pickle_01.pickle', 'estimator_pickle_02.pickle', 'estimator_pickle_03.pickle', 'estimator_pickle_04.pickle', 'estimator_pickle_05.pickle',\n",
    "           'estimator_pickle_06.pickle', 'estimator_pickle_07.pickle', 'estimator_pickle_08.pickle', 'estimator_pickle_09.pickle']\n",
    "\n",
    "test = pd.read_csv('C:/Users/Mathew/Data Science Project/Split_Data01.csv')\n",
    "test = test.drop(['COW', 'PUMA', 'MIGPUMA', 'POWPUMA', 'ANC1P', 'ANC2P', 'FOD1P', 'FOD2P', 'INDP', 'LANP', 'POBP', 'MIGSP', 'RAC3P'], 1)\n",
    "for feature in short_col_arr:\n",
    "    test = pd.concat([test, pd.get_dummies(test[feature[1]], prefix = feature[1], dummy_na=True)], axis=1)\n",
    "    test = test.drop(feature[1],1)\n",
    "test = test.drop('Unnamed: 0',1)\n",
    "    \n",
    "y = ((test['SEMP'] > 0) | (test['SEMP'] < 0))*1.0\n",
    "x1 = test.drop('SEMP',1).fillna(value = -1)\n",
    "x2 = x.drop('VPS_nan',1)\n"
   ]
  },
  {
   "cell_type": "code",
   "execution_count": 38,
   "metadata": {
    "collapsed": false
   },
   "outputs": [
    {
     "name": "stdout",
     "output_type": "stream",
     "text": [
      "        PWGTP  AGEP  CITWP   INTP  JWMNP  MARHYP   OIP  PAP   RETP  SSIP  \\\n",
      "0          -1    -1     -1     -1     -1      -1    -1   -1     -1    -1   \n",
      "1         127    60     -1   2000     25    1991     0    0      0     0   \n",
      "2         190    45     -1      0     35    1992     0    0      0     0   \n",
      "3          -1    -1     -1     -1     -1      -1    -1   -1     -1    -1   \n",
      "4          -1    -1     -1     -1     -1      -1    -1   -1     -1    -1   \n",
      "5          -1    -1     -1     -1     -1      -1    -1   -1     -1    -1   \n",
      "6          31    33   2013      0     10    2003     0    0      0     0   \n",
      "7         249    51     -1      0     60    1994     0    0      0     0   \n",
      "8           7    23     -1      0     25    2011     0    0      0     0   \n",
      "9         138    51     -1  30000     20    1984     0    0      0     0   \n",
      "10          5    24     -1      0     59    2011     0    0      0     0   \n",
      "11        124    30     -1      0     30    2007     0    0      0     0   \n",
      "12         97    55     -1      0     -1    1976     0    0  16000     0   \n",
      "13         36    38     -1      0     30      -1     0    0      0     0   \n",
      "14         52    22     -1      0     10      -1     0    0      0     0   \n",
      "15        126    57     -1      0     30    1991     0    0      0     0   \n",
      "16        128    57     -1      0     30    1991     0    0      0     0   \n",
      "17         70    45     -1     10      4    1994     0    0      0     0   \n",
      "18         47    24     -1      0     20      -1  2500    0      0     0   \n",
      "19         33    66     -1      0     -1    1987     0    0      0     0   \n",
      "20         40    53     -1      0     -1    1979     0    0      0     0   \n",
      "21         54    43     -1      0     15    1992     0    0      0     0   \n",
      "22         18    63     -1      0     -1    2007     0    0  21700     0   \n",
      "23        194    49     -1      0     25      -1     0    0      0     0   \n",
      "24        159    40   2000      0     10    2001     0    0      0     0   \n",
      "25        144    31     -1      0     10    2001     0    0      0     0   \n",
      "26         40    41     -1      0      5      -1     0    0      0     0   \n",
      "27        120    67     -1      0     -1    2004     0    0  19200     0   \n",
      "28        104    26     -1      0     30      -1     0    0      0     0   \n",
      "29         69    62     -1      0      5    1992     0    0      0     0   \n",
      "...       ...   ...    ...    ...    ...     ...   ...  ...    ...   ...   \n",
      "232475     -1    -1     -1     -1     -1      -1    -1   -1     -1    -1   \n",
      "232476     -1    -1     -1     -1     -1      -1    -1   -1     -1    -1   \n",
      "232477     -1    -1     -1     -1     -1      -1    -1   -1     -1    -1   \n",
      "232478     -1    -1     -1     -1     -1      -1    -1   -1     -1    -1   \n",
      "232479     -1    -1     -1     -1     -1      -1    -1   -1     -1    -1   \n",
      "232480     -1    -1     -1     -1     -1      -1    -1   -1     -1    -1   \n",
      "232481     -1    -1     -1     -1     -1      -1    -1   -1     -1    -1   \n",
      "232482     -1    -1     -1     -1     -1      -1    -1   -1     -1    -1   \n",
      "232483     -1    -1     -1     -1     -1      -1    -1   -1     -1    -1   \n",
      "232484     -1    -1     -1     -1     -1      -1    -1   -1     -1    -1   \n",
      "232485     -1    -1     -1     -1     -1      -1    -1   -1     -1    -1   \n",
      "232486     -1    -1     -1     -1     -1      -1    -1   -1     -1    -1   \n",
      "232487     -1    -1     -1     -1     -1      -1    -1   -1     -1    -1   \n",
      "232488     -1    -1     -1     -1     -1      -1    -1   -1     -1    -1   \n",
      "232489     -1    -1     -1     -1     -1      -1    -1   -1     -1    -1   \n",
      "232490     -1    -1     -1     -1     -1      -1    -1   -1     -1    -1   \n",
      "232491     -1    -1     -1     -1     -1      -1    -1   -1     -1    -1   \n",
      "232492     -1    -1     -1     -1     -1      -1    -1   -1     -1    -1   \n",
      "232493     -1    -1     -1     -1     -1      -1    -1   -1     -1    -1   \n",
      "232494     -1    -1     -1     -1     -1      -1    -1   -1     -1    -1   \n",
      "232495     -1    -1     -1     -1     -1      -1    -1   -1     -1    -1   \n",
      "232496     -1    -1     -1     -1     -1      -1    -1   -1     -1    -1   \n",
      "232497     -1    -1     -1     -1     -1      -1    -1   -1     -1    -1   \n",
      "232498     -1    -1     -1     -1     -1      -1    -1   -1     -1    -1   \n",
      "232499     -1    -1     -1     -1     -1      -1    -1   -1     -1    -1   \n",
      "232500     -1    -1     -1     -1     -1      -1    -1   -1     -1    -1   \n",
      "232501     -1    -1     -1     -1     -1      -1    -1   -1     -1    -1   \n",
      "232502     -1    -1     -1     -1     -1      -1    -1   -1     -1    -1   \n",
      "232503     -1    -1     -1     -1     -1      -1    -1   -1     -1    -1   \n",
      "232504     -1    -1     -1     -1     -1      -1    -1   -1     -1    -1   \n",
      "\n",
      "          ...     VPS_nan  WAOB_1.0  WAOB_2.0  WAOB_3.0  WAOB_4.0  WAOB_5.0  \\\n",
      "0         ...           1         0         0         0         0         0   \n",
      "1         ...           1         1         0         0         0         0   \n",
      "2         ...           1         1         0         0         0         0   \n",
      "3         ...           1         0         0         0         0         0   \n",
      "4         ...           1         0         0         0         0         0   \n",
      "5         ...           1         0         0         0         0         0   \n",
      "6         ...           1         0         0         1         0         0   \n",
      "7         ...           1         1         0         0         0         0   \n",
      "8         ...           1         1         0         0         0         0   \n",
      "9         ...           1         1         0         0         0         0   \n",
      "10        ...           1         1         0         0         0         0   \n",
      "11        ...           1         1         0         0         0         0   \n",
      "12        ...           1         1         0         0         0         0   \n",
      "13        ...           0         1         0         0         0         0   \n",
      "14        ...           1         1         0         0         0         0   \n",
      "15        ...           1         1         0         0         0         0   \n",
      "16        ...           0         1         0         0         0         0   \n",
      "17        ...           1         1         0         0         0         0   \n",
      "18        ...           1         1         0         0         0         0   \n",
      "19        ...           1         1         0         0         0         0   \n",
      "20        ...           1         1         0         0         0         0   \n",
      "21        ...           1         1         0         0         0         0   \n",
      "22        ...           1         1         0         0         0         0   \n",
      "23        ...           1         1         0         0         0         0   \n",
      "24        ...           1         0         0         0         1         0   \n",
      "25        ...           1         0         0         0         1         0   \n",
      "26        ...           1         1         0         0         0         0   \n",
      "27        ...           1         1         0         0         0         0   \n",
      "28        ...           1         1         0         0         0         0   \n",
      "29        ...           1         1         0         0         0         0   \n",
      "...       ...         ...       ...       ...       ...       ...       ...   \n",
      "232475    ...           1         0         0         0         0         0   \n",
      "232476    ...           1         0         0         0         0         0   \n",
      "232477    ...           1         0         0         0         0         0   \n",
      "232478    ...           1         0         0         0         0         0   \n",
      "232479    ...           1         0         0         0         0         0   \n",
      "232480    ...           1         0         0         0         0         0   \n",
      "232481    ...           1         0         0         0         0         0   \n",
      "232482    ...           1         0         0         0         0         0   \n",
      "232483    ...           1         0         0         0         0         0   \n",
      "232484    ...           1         0         0         0         0         0   \n",
      "232485    ...           1         0         0         0         0         0   \n",
      "232486    ...           1         0         0         0         0         0   \n",
      "232487    ...           1         0         0         0         0         0   \n",
      "232488    ...           1         0         0         0         0         0   \n",
      "232489    ...           1         0         0         0         0         0   \n",
      "232490    ...           1         0         0         0         0         0   \n",
      "232491    ...           1         0         0         0         0         0   \n",
      "232492    ...           1         0         0         0         0         0   \n",
      "232493    ...           1         0         0         0         0         0   \n",
      "232494    ...           1         0         0         0         0         0   \n",
      "232495    ...           1         0         0         0         0         0   \n",
      "232496    ...           1         0         0         0         0         0   \n",
      "232497    ...           1         0         0         0         0         0   \n",
      "232498    ...           1         0         0         0         0         0   \n",
      "232499    ...           1         0         0         0         0         0   \n",
      "232500    ...           1         0         0         0         0         0   \n",
      "232501    ...           1         0         0         0         0         0   \n",
      "232502    ...           1         0         0         0         0         0   \n",
      "232503    ...           1         0         0         0         0         0   \n",
      "232504    ...           1         0         0         0         0         0   \n",
      "\n",
      "        WAOB_6.0  WAOB_7.0  WAOB_8.0  WAOB_nan  \n",
      "0              0         0         0         1  \n",
      "1              0         0         0         0  \n",
      "2              0         0         0         0  \n",
      "3              0         0         0         1  \n",
      "4              0         0         0         1  \n",
      "5              0         0         0         1  \n",
      "6              0         0         0         0  \n",
      "7              0         0         0         0  \n",
      "8              0         0         0         0  \n",
      "9              0         0         0         0  \n",
      "10             0         0         0         0  \n",
      "11             0         0         0         0  \n",
      "12             0         0         0         0  \n",
      "13             0         0         0         0  \n",
      "14             0         0         0         0  \n",
      "15             0         0         0         0  \n",
      "16             0         0         0         0  \n",
      "17             0         0         0         0  \n",
      "18             0         0         0         0  \n",
      "19             0         0         0         0  \n",
      "20             0         0         0         0  \n",
      "21             0         0         0         0  \n",
      "22             0         0         0         0  \n",
      "23             0         0         0         0  \n",
      "24             0         0         0         0  \n",
      "25             0         0         0         0  \n",
      "26             0         0         0         0  \n",
      "27             0         0         0         0  \n",
      "28             0         0         0         0  \n",
      "29             0         0         0         0  \n",
      "...          ...       ...       ...       ...  \n",
      "232475         0         0         0         1  \n",
      "232476         0         0         0         1  \n",
      "232477         0         0         0         1  \n",
      "232478         0         0         0         1  \n",
      "232479         0         0         0         1  \n",
      "232480         0         0         0         1  \n",
      "232481         0         0         0         1  \n",
      "232482         0         0         0         1  \n",
      "232483         0         0         0         1  \n",
      "232484         0         0         0         1  \n",
      "232485         0         0         0         1  \n",
      "232486         0         0         0         1  \n",
      "232487         0         0         0         1  \n",
      "232488         0         0         0         1  \n",
      "232489         0         0         0         1  \n",
      "232490         0         0         0         1  \n",
      "232491         0         0         0         1  \n",
      "232492         0         0         0         1  \n",
      "232493         0         0         0         1  \n",
      "232494         0         0         0         1  \n",
      "232495         0         0         0         1  \n",
      "232496         0         0         0         1  \n",
      "232497         0         0         0         1  \n",
      "232498         0         0         0         1  \n",
      "232499         0         0         0         1  \n",
      "232500         0         0         0         1  \n",
      "232501         0         0         0         1  \n",
      "232502         0         0         0         1  \n",
      "232503         0         0         0         1  \n",
      "232504         0         0         0         1  \n",
      "\n",
      "[232505 rows x 620 columns]\n"
     ]
    },
    {
     "data": {
      "text/plain": [
       "(232505, 620)"
      ]
     },
     "execution_count": 38,
     "metadata": {},
     "output_type": "execute_result"
    }
   ],
   "source": [
    "print(x)\n",
    "x.shape"
   ]
  },
  {
   "cell_type": "markdown",
   "metadata": {},
   "source": [
    "# Generate Predictions"
   ]
  },
  {
   "cell_type": "code",
   "execution_count": 49,
   "metadata": {
    "collapsed": false
   },
   "outputs": [],
   "source": [
    "pickles = ['estimator_pickle_01.pickle', 'estimator_pickle_02.pickle', 'estimator_pickle_03.pickle', \n",
    "            'estimator_pickle_04.pickle', 'estimator_pickle_05.pickle', 'estimator_pickle_06.pickle', \n",
    "            'estimator_pickle_07.pickle', 'estimator_pickle_08.pickle', 'estimator_pickle_09.pickle']\n",
    "predictions = []\n",
    "accuracies = []\n",
    "output = []\n",
    "\n",
    "f= open('C:/Users/Mathew/Data Science Project/estimator_pickle_01.pickle', 'rb')\n",
    "estimator = pickle.load(f)\n",
    "f.close()\n",
    "prediction = estimator.predict(x)\n",
    "predictions.append(prediction)\n",
    "accuracies.append(metrics.accuracy_score(y,prediction))\n",
    "\n",
    "f= open('C:/Users/Mathew/Data Science Project/estimator_pickle_02.pickle', 'rb')\n",
    "estimator = pickle.load(f)\n",
    "f.close()\n",
    "prediction = estimator.predict(x.drop('VPS_nan',1))\n",
    "predictions.append(prediction)\n",
    "accuracies.append(metrics.accuracy_score(y,prediction))\n",
    "\n",
    "f= open('C:/Users/Mathew/Data Science Project/estimator_pickle_03.pickle', 'rb')\n",
    "estimator = pickle.load(f)\n",
    "f.close()\n",
    "prediction = estimator.predict(x.drop('VPS_nan',1))\n",
    "predictions.append(prediction)\n",
    "accuracies.append(metrics.accuracy_score(y,prediction))\n",
    "\n",
    "f= open('C:/Users/Mathew/Data Science Project/estimator_pickle_04.pickle', 'rb')\n",
    "estimator = pickle.load(f)\n",
    "f.close()\n",
    "prediction = estimator.predict(x.drop(['VPS_nan','WAOB_nan'],1))\n",
    "predictions.append(prediction)\n",
    "accuracies.append(metrics.accuracy_score(y,prediction))\n",
    "\n",
    "f= open('C:/Users/Mathew/Data Science Project/estimator_pickle_05.pickle', 'rb')\n",
    "estimator = pickle.load(f)\n",
    "f.close()\n",
    "prediction = estimator.predict(x.drop('VPS_nan',1))\n",
    "predictions.append(prediction)\n",
    "accuracies.append(metrics.accuracy_score(y,prediction))\n",
    "\n",
    "f= open('C:/Users/Mathew/Data Science Project/estimator_pickle_06.pickle', 'rb')\n",
    "estimator = pickle.load(f)\n",
    "f.close()\n",
    "prediction = estimator.predict(x)\n",
    "predictions.append(prediction)\n",
    "accuracies.append(metrics.accuracy_score(y,prediction))\n",
    "\n",
    "f= open('C:/Users/Mathew/Data Science Project/estimator_pickle_07.pickle', 'rb')\n",
    "estimator = pickle.load(f)\n",
    "f.close()\n",
    "prediction = estimator.predict(x)\n",
    "predictions.append(prediction)\n",
    "accuracies.append(metrics.accuracy_score(y,prediction))\n",
    "\n",
    "f= open('C:/Users/Mathew/Data Science Project/estimator_pickle_08.pickle', 'rb')\n",
    "estimator = pickle.load(f)\n",
    "f.close()\n",
    "prediction = estimator.predict(x.drop('VPS_nan',1))\n",
    "predictions.append(prediction)\n",
    "accuracies.append(metrics.accuracy_score(y,prediction))\n",
    "\n",
    "f= open('C:/Users/Mathew/Data Science Project/estimator_pickle_09.pickle', 'rb')\n",
    "estimator = pickle.load(f)\n",
    "f.close()\n",
    "prediction = estimator.predict(x)\n",
    "predictions.append(prediction)\n",
    "accuracies.append(metrics.accuracy_score(y,prediction))\n",
    "\n",
    "predictions = pd.DataFrame(predictions)\n",
    "for i in range(len(predictions.columns)):\n",
    "    output.append(stats.mode(predictions[i]).mode)\n"
   ]
  },
  {
   "cell_type": "code",
   "execution_count": 51,
   "metadata": {
    "collapsed": false
   },
   "outputs": [
    {
     "name": "stdout",
     "output_type": "stream",
     "text": [
      "0.979230554182\n",
      "[0.97927356400937615, 0.97929936990602351, 0.96754908496591474, 0.97955742887249742, 0.97927356400937615, 0.97951872002752627, 0.97919614631943397, 0.97901120406012776, 0.97953592395862454]\n"
     ]
    }
   ],
   "source": [
    "print(metrics.accuracy_score(y,output))\n",
    "print(accuracies)"
   ]
  },
  {
   "cell_type": "code",
   "execution_count": 52,
   "metadata": {
    "collapsed": false
   },
   "outputs": [
    {
     "name": "stdout",
     "output_type": "stream",
     "text": [
      "[[217218      9]\n",
      " [  4820  10458]]\n"
     ]
    }
   ],
   "source": [
    "print(confusion_matrix(y,output))"
   ]
  },
  {
   "cell_type": "code",
   "execution_count": 54,
   "metadata": {
    "collapsed": false
   },
   "outputs": [
    {
     "data": {
      "text/plain": [
       "0.6803289560949728"
      ]
     },
     "execution_count": 54,
     "metadata": {},
     "output_type": "execute_result"
    }
   ],
   "source": [
    "1-4820/(4820+10258)"
   ]
  },
  {
   "cell_type": "code",
   "execution_count": 65,
   "metadata": {
    "collapsed": false
   },
   "outputs": [
    {
     "data": {
      "text/plain": [
       "0.9671404916023312"
      ]
     },
     "execution_count": 65,
     "metadata": {},
     "output_type": "execute_result"
    }
   ],
   "source": [
    "vote_counts = 0\n",
    "for i in range(len(predictions.columns)):\n",
    "    if np.average(predictions[i]) == 1 or :\n",
    "        vote_counts = vote_counts + 1\n",
    "    elif y[i] == 0 and np.average(predictions[i]) == 0:\n",
    "        vote_counts = vote_counts + 1\n",
    "vote_counts/len(y)"
   ]
  },
  {
   "cell_type": "code",
   "execution_count": 73,
   "metadata": {
    "collapsed": true
   },
   "outputs": [],
   "source": [
    "non_unanimous_votes = []\n",
    "for i in range(len(predictions.columns)):\n",
    "    if np.average(predictions[i]) != 1 and np.average(predictions[i]) != 0:\n",
    "        non_unanimous_votes.append(np.average(predictions[i]))"
   ]
  },
  {
   "cell_type": "code",
   "execution_count": 76,
   "metadata": {
    "collapsed": false
   },
   "outputs": [
    {
     "data": {
      "text/plain": [
       "(array([  172.,   125.,    82.,    57.,     0.,    61.,    81.,    91.,\n",
       "         2502.]),\n",
       " array([ 0.11111111,  0.19753086,  0.28395062,  0.37037037,  0.45679012,\n",
       "         0.54320988,  0.62962963,  0.71604938,  0.80246914,  0.88888889]),\n",
       " <a list of 9 Patch objects>)"
      ]
     },
     "execution_count": 76,
     "metadata": {},
     "output_type": "execute_result"
    },
    {
     "data": {
      "image/png": "[encoded data removed]",
      "text/plain": [
       "<matplotlib.figure.Figure at 0x2bbcc7b8>"
      ]
     },
     "metadata": {},
     "output_type": "display_data"
    }
   ],
   "source": [
    "plt.hist(non_unanimous_votes, bins = 9)"
   ]
  },
  {
   "cell_type": "code",
   "execution_count": null,
   "metadata": {
    "collapsed": true
   },
   "outputs": [],
   "source": []
  }
 ],
 "metadata": {
  "kernelspec": {
   "display_name": "Python 3",
   "language": "python",
   "name": "python3"
  },
  "language_info": {
   "codemirror_mode": {
    "name": "ipython",
    "version": 3
   },
   "file_extension": ".py",
   "mimetype": "text/x-python",
   "name": "python",
   "nbconvert_exporter": "python",
   "pygments_lexer": "ipython3",
   "version": "3.4.3"
  }
 },
 "nbformat": 4,
 "nbformat_minor": 0
}
